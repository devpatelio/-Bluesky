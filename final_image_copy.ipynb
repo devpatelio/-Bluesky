{
 "cells": [
  {
   "cell_type": "code",
   "execution_count": 14,
   "metadata": {},
   "outputs": [],
   "source": [
    "import numpy as np\n",
    "import pandas as pd\n",
    "import torch.nn as nn\n",
    "import torch\n",
    "import matplotlib.pyplot as plt\n",
    "import os\n",
    "import cv2\n",
    "\n",
    "from torch.utils.data import Dataset, DataLoader\n",
    "from torchvision import transforms, utils\n",
    "from torch import optim as optim\n",
    "import torch.nn.functional as F\n",
    "import torch\n",
    "import torchvision\n",
    "import torch.nn as nn\n",
    "import torchvision.transforms as transforms\n",
    "import numpy as np\n",
    "import matplotlib.pyplot as plt\n",
    "from PIL import Image\n",
    "from torchvision.transforms import ToTensor\n",
    "import cv2\n",
    "import numpy as np\n",
    "import dlib\n",
    "from imutils import face_utils\n",
    "\n",
    "from IPython.core.interactiveshell import InteractiveShell\n",
    "InteractiveShell.ast_node_interactivity = \"all\"\n",
    " \n",
    "    \n",
    "import torchvision.transforms as transforms\n",
    "\n",
    "label_names = ['angry', 'disgust', 'fear', 'happy', 'neutral', 'sad', 'surprise']\n",
    "one_hot_template = torch.zeros(len(label_names), len(label_names))\n",
    "\n",
    "for i in range(0, len(label_names)):\n",
    "    one_hot_template[i][i] = 1\n",
    "\n",
    "class FacialImages(Dataset):\n",
    "    def __init__(self, directory, label_directory_names, to_coords=True):\n",
    "        loader = os.listdir(str(directory))\n",
    "        labels = label_directory_names\n",
    "        self.dataset = []\n",
    "        final_labelled_directories = []\n",
    "        self.transform = transforms.Compose([transforms.ToTensor()])\n",
    "        loader.remove(loader[1])\n",
    "        \n",
    "        for counter, i in enumerate(loader):\n",
    "            final_labelled_directories.append([directory + '/' + i, i])\n",
    "        \n",
    "        for i, g in final_labelled_directories:\n",
    "            label_loader = os.listdir(i)\n",
    "            for x in label_loader:\n",
    "                if x == '.ipynb_checkpoints': #cunt boi never broke again\n",
    "                    continue\n",
    "                \n",
    "                with Image.open(i +'/' + x) as image:\n",
    "                    trs_image = self.transform(image.resize((256, 256)))\n",
    "                    if to_coords == True:\n",
    "                        trs_image = torch.FloatTensor(pixels_to_coords(str(i +'/' + x)))\n",
    "                    self.dataset.append([trs_image, label_encoder_dict[g], str(i +'/' + x)])\n",
    "    \n",
    "    def __len__(self):\n",
    "        return(len(self.dataset))\n",
    "    \n",
    "    def __getitem__(self, index):\n",
    "        image = self.dataset[index][0]\n",
    "        label = self.dataset[index][1]\n",
    "        directory = self.dataset[index][2]\n",
    "        \n",
    "        return [image, label, directory]\n",
    "        \n",
    "        \n",
    "    def image_view(self, index):\n",
    "        array = self.dataset[index][0].view(256, -1)\n",
    "        return plt.imshow(array.numpy(), cmap='gray'), array\n",
    "    \n",
    "def pixels_to_coords(train_data_item):\n",
    "    img = cv2.resize(cv2.imread(train_data_item, 0), (256, 256))\n",
    "    rects = detector(img, 0)\n",
    "    landmarks = list()\n",
    "    for (i, rect) in enumerate(rects):\n",
    "        shape = predictor(img, rect)\n",
    "        shape = face_utils.shape_to_np(shape)\n",
    "        image_coords = list()\n",
    "        for (x, y) in shape:\n",
    "            image_coords.append([x, y])\n",
    "            landmarks.append(image_coords)\n",
    "    return landmarks"
   ]
  },
  {
   "cell_type": "code",
   "execution_count": 15,
   "metadata": {},
   "outputs": [],
   "source": [
    "train_data = FacialImages('/Users/devpatelio/Downloads/Coding/Python/pyTorch/conversation_mood/image_mood/ferdata/train', label_names, to_coords=True)\n",
    "test_data = FacialImages('/Users/devpatelio/Downloads/Coding/Python/pyTorch/conversation_mood/image_mood/ferdata/test', label_names, to_coords=True)"
   ]
  },
  {
   "cell_type": "code",
   "execution_count": 38,
   "metadata": {},
   "outputs": [],
   "source": [
    "train_data_face = FacialImages('/Users/devpatelio/Downloads/Coding/Python/pyTorch/conversation_mood/image_mood/ferdata/train', label_names, to_coords=False)\n",
    "test_data_face = FacialImages('/Users/devpatelio/Downloads/Coding/Python/pyTorch/conversation_mood/image_mood/ferdata/test', label_names, to_coords=False)"
   ]
  },
  {
   "cell_type": "code",
   "execution_count": 24,
   "metadata": {},
   "outputs": [],
   "source": [
    "\n",
    "label_encoder_dict = {label_names[i]: one_hot_template[i] for i in range(0, len(label_names))}\n",
    "detector = dlib.get_frontal_face_detector()\n",
    "predictor = dlib.shape_predictor(\"/Users/devpatelio/Downloads/Coding/Python/pyTorch/conversation_mood/image_mood/shape_predictor_68_face_landmarks.dat\")\n",
    "landmarks = []\n",
    "\n",
    "for x in range(0, 2):\n",
    "    img = cv2.resize(cv2.imread(train_data[x][2], 0), (256, 256))\n",
    "    rects = detector(img, 0)\n",
    "    for (i, rect) in enumerate(rects):\n",
    "        shape = predictor(img, rect)\n",
    "        shape = face_utils.shape_to_np(shape)\n",
    "        image_coords = list()\n",
    "        for (x, y) in shape:\n",
    "            image_coords.append([x, y])\n",
    "        landmarks.append(image_coords)\n"
   ]
  },
  {
   "cell_type": "code",
   "execution_count": 26,
   "metadata": {},
   "outputs": [
    {
     "name": "stdout",
     "output_type": "stream",
     "text": [
      "[[5, 115], [13, 146], [27, 175], [41, 202], [56, 227], [78, 246], [107, 257], [140, 262], [174, 260], [204, 256], [228, 243], [245, 222], [253, 193], [256, 160], [257, 127], [259, 95], [256, 62], [12, 93], [23, 78], [42, 72], [64, 72], [86, 76], [149, 66], [169, 52], [191, 43], [215, 38], [237, 44], [124, 95], [129, 122], [134, 149], [139, 175], [117, 186], [131, 188], [146, 190], [158, 182], [170, 175], [42, 108], [54, 96], [72, 94], [87, 105], [73, 110], [55, 113], [166, 90], [179, 72], [198, 66], [215, 72], [204, 82], [185, 88], [99, 217], [117, 215], [135, 210], [150, 211], [164, 203], [186, 198], [208, 193], [195, 212], [177, 224], [161, 229], [145, 230], [122, 229], [105, 219], [137, 219], [153, 218], [168, 212], [203, 197], [171, 211], [156, 216], [140, 217]]\n"
     ]
    }
   ],
   "source": [
    "print(landmarks[0])"
   ]
  },
  {
   "cell_type": "code",
   "execution_count": 42,
   "metadata": {},
   "outputs": [
    {
     "data": {
      "text/plain": [
       "<matplotlib.collections.PathCollection at 0x7fd75234c7c0>"
      ]
     },
     "execution_count": 42,
     "metadata": {},
     "output_type": "execute_result"
    },
    {
     "data": {
      "image/png": "[encoded data removed]",
      "text/plain": [
       "<Figure size 432x288 with 1 Axes>"
      ]
     },
     "metadata": {
      "needs_background": "light"
     },
     "output_type": "display_data"
    },
    {
     "data": {
      "text/plain": [
       "(<matplotlib.image.AxesImage at 0x7fd7523a3070>,\n",
       " tensor([[0.4314, 0.4275, 0.4196,  ..., 0.3686, 0.3765, 0.3882],\n",
       "         [0.4314, 0.4275, 0.4196,  ..., 0.3647, 0.3725, 0.3804],\n",
       "         [0.4353, 0.4314, 0.4235,  ..., 0.3529, 0.3608, 0.3686],\n",
       "         ...,\n",
       "         [0.0275, 0.0275, 0.0275,  ..., 0.4784, 0.4784, 0.4784],\n",
       "         [0.0275, 0.0275, 0.0275,  ..., 0.4784, 0.4784, 0.4784],\n",
       "         [0.0275, 0.0275, 0.0275,  ..., 0.4784, 0.4784, 0.4784]]))"
      ]
     },
     "execution_count": 42,
     "metadata": {},
     "output_type": "execute_result"
    },
    {
     "data": {
      "text/plain": [
       "<matplotlib.collections.PathCollection at 0x7fd7523a34c0>"
      ]
     },
     "execution_count": 42,
     "metadata": {},
     "output_type": "execute_result"
    },
    {
     "data": {
      "image/png": "[encoded data removed]",
      "text/plain": [
       "<Figure size 432x288 with 1 Axes>"
      ]
     },
     "metadata": {
      "needs_background": "light"
     },
     "output_type": "display_data"
    },
    {
     "data": {
      "text/plain": [
       "(<matplotlib.image.AxesImage at 0x7fd752433be0>,\n",
       " tensor([[0.4314, 0.4275, 0.4196,  ..., 0.3686, 0.3765, 0.3882],\n",
       "         [0.4314, 0.4275, 0.4196,  ..., 0.3647, 0.3725, 0.3804],\n",
       "         [0.4353, 0.4314, 0.4235,  ..., 0.3529, 0.3608, 0.3686],\n",
       "         ...,\n",
       "         [0.0275, 0.0275, 0.0275,  ..., 0.4784, 0.4784, 0.4784],\n",
       "         [0.0275, 0.0275, 0.0275,  ..., 0.4784, 0.4784, 0.4784],\n",
       "         [0.0275, 0.0275, 0.0275,  ..., 0.4784, 0.4784, 0.4784]]))"
      ]
     },
     "execution_count": 42,
     "metadata": {},
     "output_type": "execute_result"
    },
    {
     "data": {
      "image/png": "[encoded data removed]",
      "text/plain": [
       "<Figure size 432x288 with 1 Axes>"
      ]
     },
     "metadata": {
      "needs_background": "light"
     },
     "output_type": "display_data"
    }
   ],
   "source": [
    "for i in landmarks:\n",
    "    x_landmarks = []\n",
    "    y_landmarks = []\n",
    "    for x in i:\n",
    "            x_landmarks.append(-int(x[0]))\n",
    "            y_landmarks.append(-int(x[1]))\n",
    "    plt.scatter(x_landmarks, y_landmarks)\n",
    "    plt.show()\n",
    "    train_data_face.image_view(0)\n",
    "\n"
   ]
  },
  {
   "cell_type": "code",
   "execution_count": null,
   "metadata": {},
   "outputs": [],
   "source": []
  },
  {
   "cell_type": "code",
   "execution_count": 629,
   "metadata": {},
   "outputs": [],
   "source": [
    "# print(train_data[0][0][:68])\n",
    "# print(train_data[0][0][68:136])\n",
    "# print(train_data[0][0][136:204])\n",
    "# print(train_data[0][0][204:272])\n",
    "\n",
    "for i in train_data:\n",
    "    for x in i[0]:\n",
    "        x = x - i[0].min()\n",
    "        x /= i[0].max()"
   ]
  },
  {
   "cell_type": "code",
   "execution_count": 37,
   "metadata": {},
   "outputs": [
    {
     "ename": "RuntimeError",
     "evalue": "stack expects each tensor to be equal size, but got [68, 68, 2] at entry 0 and [0] at entry 3",
     "output_type": "error",
     "traceback": [
      "\u001b[0;31m---------------------------------------------------------------------------\u001b[0m",
      "\u001b[0;31mRuntimeError\u001b[0m                              Traceback (most recent call last)",
      "\u001b[0;32m<ipython-input-37-181850a5be10>\u001b[0m in \u001b[0;36m<module>\u001b[0;34m\u001b[0m\n\u001b[1;32m      6\u001b[0m \u001b[0;34m\u001b[0m\u001b[0m\n\u001b[1;32m      7\u001b[0m \u001b[0mdataiter\u001b[0m \u001b[0;34m=\u001b[0m \u001b[0miter\u001b[0m\u001b[0;34m(\u001b[0m\u001b[0mtrainloader\u001b[0m\u001b[0;34m)\u001b[0m\u001b[0;34m\u001b[0m\u001b[0;34m\u001b[0m\u001b[0m\n\u001b[0;32m----> 8\u001b[0;31m \u001b[0mdata\u001b[0m \u001b[0;34m=\u001b[0m \u001b[0mdataiter\u001b[0m\u001b[0;34m.\u001b[0m\u001b[0mnext\u001b[0m\u001b[0;34m(\u001b[0m\u001b[0;34m)\u001b[0m\u001b[0;34m\u001b[0m\u001b[0;34m\u001b[0m\u001b[0m\n\u001b[0m\u001b[1;32m      9\u001b[0m \u001b[0mkeys\u001b[0m \u001b[0;34m=\u001b[0m \u001b[0mlist\u001b[0m\u001b[0;34m(\u001b[0m\u001b[0mlabel_encoder_dict\u001b[0m\u001b[0;34m.\u001b[0m\u001b[0mkeys\u001b[0m\u001b[0;34m(\u001b[0m\u001b[0;34m)\u001b[0m\u001b[0;34m)\u001b[0m\u001b[0;34m\u001b[0m\u001b[0;34m\u001b[0m\u001b[0m\n\u001b[1;32m     10\u001b[0m \u001b[0mvalues\u001b[0m \u001b[0;34m=\u001b[0m \u001b[0mlist\u001b[0m\u001b[0;34m(\u001b[0m\u001b[0mlabel_encoder_dict\u001b[0m\u001b[0;34m.\u001b[0m\u001b[0mvalues\u001b[0m\u001b[0;34m(\u001b[0m\u001b[0;34m)\u001b[0m\u001b[0;34m)\u001b[0m\u001b[0;34m\u001b[0m\u001b[0;34m\u001b[0m\u001b[0m\n",
      "\u001b[0;32m~/miniconda3/lib/python3.8/site-packages/torch/utils/data/dataloader.py\u001b[0m in \u001b[0;36m__next__\u001b[0;34m(self)\u001b[0m\n\u001b[1;32m    433\u001b[0m         \u001b[0;32mif\u001b[0m \u001b[0mself\u001b[0m\u001b[0;34m.\u001b[0m\u001b[0m_sampler_iter\u001b[0m \u001b[0;32mis\u001b[0m \u001b[0;32mNone\u001b[0m\u001b[0;34m:\u001b[0m\u001b[0;34m\u001b[0m\u001b[0;34m\u001b[0m\u001b[0m\n\u001b[1;32m    434\u001b[0m             \u001b[0mself\u001b[0m\u001b[0;34m.\u001b[0m\u001b[0m_reset\u001b[0m\u001b[0;34m(\u001b[0m\u001b[0;34m)\u001b[0m\u001b[0;34m\u001b[0m\u001b[0;34m\u001b[0m\u001b[0m\n\u001b[0;32m--> 435\u001b[0;31m         \u001b[0mdata\u001b[0m \u001b[0;34m=\u001b[0m \u001b[0mself\u001b[0m\u001b[0;34m.\u001b[0m\u001b[0m_next_data\u001b[0m\u001b[0;34m(\u001b[0m\u001b[0;34m)\u001b[0m\u001b[0;34m\u001b[0m\u001b[0;34m\u001b[0m\u001b[0m\n\u001b[0m\u001b[1;32m    436\u001b[0m         \u001b[0mself\u001b[0m\u001b[0;34m.\u001b[0m\u001b[0m_num_yielded\u001b[0m \u001b[0;34m+=\u001b[0m \u001b[0;36m1\u001b[0m\u001b[0;34m\u001b[0m\u001b[0;34m\u001b[0m\u001b[0m\n\u001b[1;32m    437\u001b[0m         \u001b[0;32mif\u001b[0m \u001b[0mself\u001b[0m\u001b[0;34m.\u001b[0m\u001b[0m_dataset_kind\u001b[0m \u001b[0;34m==\u001b[0m \u001b[0m_DatasetKind\u001b[0m\u001b[0;34m.\u001b[0m\u001b[0mIterable\u001b[0m \u001b[0;32mand\u001b[0m\u001b[0;31m \u001b[0m\u001b[0;31m\\\u001b[0m\u001b[0;34m\u001b[0m\u001b[0;34m\u001b[0m\u001b[0m\n",
      "\u001b[0;32m~/miniconda3/lib/python3.8/site-packages/torch/utils/data/dataloader.py\u001b[0m in \u001b[0;36m_next_data\u001b[0;34m(self)\u001b[0m\n\u001b[1;32m    473\u001b[0m     \u001b[0;32mdef\u001b[0m \u001b[0m_next_data\u001b[0m\u001b[0;34m(\u001b[0m\u001b[0mself\u001b[0m\u001b[0;34m)\u001b[0m\u001b[0;34m:\u001b[0m\u001b[0;34m\u001b[0m\u001b[0;34m\u001b[0m\u001b[0m\n\u001b[1;32m    474\u001b[0m         \u001b[0mindex\u001b[0m \u001b[0;34m=\u001b[0m \u001b[0mself\u001b[0m\u001b[0;34m.\u001b[0m\u001b[0m_next_index\u001b[0m\u001b[0;34m(\u001b[0m\u001b[0;34m)\u001b[0m  \u001b[0;31m# may raise StopIteration\u001b[0m\u001b[0;34m\u001b[0m\u001b[0;34m\u001b[0m\u001b[0m\n\u001b[0;32m--> 475\u001b[0;31m         \u001b[0mdata\u001b[0m \u001b[0;34m=\u001b[0m \u001b[0mself\u001b[0m\u001b[0;34m.\u001b[0m\u001b[0m_dataset_fetcher\u001b[0m\u001b[0;34m.\u001b[0m\u001b[0mfetch\u001b[0m\u001b[0;34m(\u001b[0m\u001b[0mindex\u001b[0m\u001b[0;34m)\u001b[0m  \u001b[0;31m# may raise StopIteration\u001b[0m\u001b[0;34m\u001b[0m\u001b[0;34m\u001b[0m\u001b[0m\n\u001b[0m\u001b[1;32m    476\u001b[0m         \u001b[0;32mif\u001b[0m \u001b[0mself\u001b[0m\u001b[0;34m.\u001b[0m\u001b[0m_pin_memory\u001b[0m\u001b[0;34m:\u001b[0m\u001b[0;34m\u001b[0m\u001b[0;34m\u001b[0m\u001b[0m\n\u001b[1;32m    477\u001b[0m             \u001b[0mdata\u001b[0m \u001b[0;34m=\u001b[0m \u001b[0m_utils\u001b[0m\u001b[0;34m.\u001b[0m\u001b[0mpin_memory\u001b[0m\u001b[0;34m.\u001b[0m\u001b[0mpin_memory\u001b[0m\u001b[0;34m(\u001b[0m\u001b[0mdata\u001b[0m\u001b[0;34m)\u001b[0m\u001b[0;34m\u001b[0m\u001b[0;34m\u001b[0m\u001b[0m\n",
      "\u001b[0;32m~/miniconda3/lib/python3.8/site-packages/torch/utils/data/_utils/fetch.py\u001b[0m in \u001b[0;36mfetch\u001b[0;34m(self, possibly_batched_index)\u001b[0m\n\u001b[1;32m     45\u001b[0m         \u001b[0;32melse\u001b[0m\u001b[0;34m:\u001b[0m\u001b[0;34m\u001b[0m\u001b[0;34m\u001b[0m\u001b[0m\n\u001b[1;32m     46\u001b[0m             \u001b[0mdata\u001b[0m \u001b[0;34m=\u001b[0m \u001b[0mself\u001b[0m\u001b[0;34m.\u001b[0m\u001b[0mdataset\u001b[0m\u001b[0;34m[\u001b[0m\u001b[0mpossibly_batched_index\u001b[0m\u001b[0;34m]\u001b[0m\u001b[0;34m\u001b[0m\u001b[0;34m\u001b[0m\u001b[0m\n\u001b[0;32m---> 47\u001b[0;31m         \u001b[0;32mreturn\u001b[0m \u001b[0mself\u001b[0m\u001b[0;34m.\u001b[0m\u001b[0mcollate_fn\u001b[0m\u001b[0;34m(\u001b[0m\u001b[0mdata\u001b[0m\u001b[0;34m)\u001b[0m\u001b[0;34m\u001b[0m\u001b[0;34m\u001b[0m\u001b[0m\n\u001b[0m",
      "\u001b[0;32m~/miniconda3/lib/python3.8/site-packages/torch/utils/data/_utils/collate.py\u001b[0m in \u001b[0;36mdefault_collate\u001b[0;34m(batch)\u001b[0m\n\u001b[1;32m     81\u001b[0m             \u001b[0;32mraise\u001b[0m \u001b[0mRuntimeError\u001b[0m\u001b[0;34m(\u001b[0m\u001b[0;34m'each element in list of batch should be of equal size'\u001b[0m\u001b[0;34m)\u001b[0m\u001b[0;34m\u001b[0m\u001b[0;34m\u001b[0m\u001b[0m\n\u001b[1;32m     82\u001b[0m         \u001b[0mtransposed\u001b[0m \u001b[0;34m=\u001b[0m \u001b[0mzip\u001b[0m\u001b[0;34m(\u001b[0m\u001b[0;34m*\u001b[0m\u001b[0mbatch\u001b[0m\u001b[0;34m)\u001b[0m\u001b[0;34m\u001b[0m\u001b[0;34m\u001b[0m\u001b[0m\n\u001b[0;32m---> 83\u001b[0;31m         \u001b[0;32mreturn\u001b[0m \u001b[0;34m[\u001b[0m\u001b[0mdefault_collate\u001b[0m\u001b[0;34m(\u001b[0m\u001b[0msamples\u001b[0m\u001b[0;34m)\u001b[0m \u001b[0;32mfor\u001b[0m \u001b[0msamples\u001b[0m \u001b[0;32min\u001b[0m \u001b[0mtransposed\u001b[0m\u001b[0;34m]\u001b[0m\u001b[0;34m\u001b[0m\u001b[0;34m\u001b[0m\u001b[0m\n\u001b[0m\u001b[1;32m     84\u001b[0m \u001b[0;34m\u001b[0m\u001b[0m\n\u001b[1;32m     85\u001b[0m     \u001b[0;32mraise\u001b[0m \u001b[0mTypeError\u001b[0m\u001b[0;34m(\u001b[0m\u001b[0mdefault_collate_err_msg_format\u001b[0m\u001b[0;34m.\u001b[0m\u001b[0mformat\u001b[0m\u001b[0;34m(\u001b[0m\u001b[0melem_type\u001b[0m\u001b[0;34m)\u001b[0m\u001b[0;34m)\u001b[0m\u001b[0;34m\u001b[0m\u001b[0;34m\u001b[0m\u001b[0m\n",
      "\u001b[0;32m~/miniconda3/lib/python3.8/site-packages/torch/utils/data/_utils/collate.py\u001b[0m in \u001b[0;36m<listcomp>\u001b[0;34m(.0)\u001b[0m\n\u001b[1;32m     81\u001b[0m             \u001b[0;32mraise\u001b[0m \u001b[0mRuntimeError\u001b[0m\u001b[0;34m(\u001b[0m\u001b[0;34m'each element in list of batch should be of equal size'\u001b[0m\u001b[0;34m)\u001b[0m\u001b[0;34m\u001b[0m\u001b[0;34m\u001b[0m\u001b[0m\n\u001b[1;32m     82\u001b[0m         \u001b[0mtransposed\u001b[0m \u001b[0;34m=\u001b[0m \u001b[0mzip\u001b[0m\u001b[0;34m(\u001b[0m\u001b[0;34m*\u001b[0m\u001b[0mbatch\u001b[0m\u001b[0;34m)\u001b[0m\u001b[0;34m\u001b[0m\u001b[0;34m\u001b[0m\u001b[0m\n\u001b[0;32m---> 83\u001b[0;31m         \u001b[0;32mreturn\u001b[0m \u001b[0;34m[\u001b[0m\u001b[0mdefault_collate\u001b[0m\u001b[0;34m(\u001b[0m\u001b[0msamples\u001b[0m\u001b[0;34m)\u001b[0m \u001b[0;32mfor\u001b[0m \u001b[0msamples\u001b[0m \u001b[0;32min\u001b[0m \u001b[0mtransposed\u001b[0m\u001b[0;34m]\u001b[0m\u001b[0;34m\u001b[0m\u001b[0;34m\u001b[0m\u001b[0m\n\u001b[0m\u001b[1;32m     84\u001b[0m \u001b[0;34m\u001b[0m\u001b[0m\n\u001b[1;32m     85\u001b[0m     \u001b[0;32mraise\u001b[0m \u001b[0mTypeError\u001b[0m\u001b[0;34m(\u001b[0m\u001b[0mdefault_collate_err_msg_format\u001b[0m\u001b[0;34m.\u001b[0m\u001b[0mformat\u001b[0m\u001b[0;34m(\u001b[0m\u001b[0melem_type\u001b[0m\u001b[0;34m)\u001b[0m\u001b[0;34m)\u001b[0m\u001b[0;34m\u001b[0m\u001b[0;34m\u001b[0m\u001b[0m\n",
      "\u001b[0;32m~/miniconda3/lib/python3.8/site-packages/torch/utils/data/_utils/collate.py\u001b[0m in \u001b[0;36mdefault_collate\u001b[0;34m(batch)\u001b[0m\n\u001b[1;32m     53\u001b[0m             \u001b[0mstorage\u001b[0m \u001b[0;34m=\u001b[0m \u001b[0melem\u001b[0m\u001b[0;34m.\u001b[0m\u001b[0mstorage\u001b[0m\u001b[0;34m(\u001b[0m\u001b[0;34m)\u001b[0m\u001b[0;34m.\u001b[0m\u001b[0m_new_shared\u001b[0m\u001b[0;34m(\u001b[0m\u001b[0mnumel\u001b[0m\u001b[0;34m)\u001b[0m\u001b[0;34m\u001b[0m\u001b[0;34m\u001b[0m\u001b[0m\n\u001b[1;32m     54\u001b[0m             \u001b[0mout\u001b[0m \u001b[0;34m=\u001b[0m \u001b[0melem\u001b[0m\u001b[0;34m.\u001b[0m\u001b[0mnew\u001b[0m\u001b[0;34m(\u001b[0m\u001b[0mstorage\u001b[0m\u001b[0;34m)\u001b[0m\u001b[0;34m\u001b[0m\u001b[0;34m\u001b[0m\u001b[0m\n\u001b[0;32m---> 55\u001b[0;31m         \u001b[0;32mreturn\u001b[0m \u001b[0mtorch\u001b[0m\u001b[0;34m.\u001b[0m\u001b[0mstack\u001b[0m\u001b[0;34m(\u001b[0m\u001b[0mbatch\u001b[0m\u001b[0;34m,\u001b[0m \u001b[0;36m0\u001b[0m\u001b[0;34m,\u001b[0m \u001b[0mout\u001b[0m\u001b[0;34m=\u001b[0m\u001b[0mout\u001b[0m\u001b[0;34m)\u001b[0m\u001b[0;34m\u001b[0m\u001b[0;34m\u001b[0m\u001b[0m\n\u001b[0m\u001b[1;32m     56\u001b[0m     \u001b[0;32melif\u001b[0m \u001b[0melem_type\u001b[0m\u001b[0;34m.\u001b[0m\u001b[0m__module__\u001b[0m \u001b[0;34m==\u001b[0m \u001b[0;34m'numpy'\u001b[0m \u001b[0;32mand\u001b[0m \u001b[0melem_type\u001b[0m\u001b[0;34m.\u001b[0m\u001b[0m__name__\u001b[0m \u001b[0;34m!=\u001b[0m \u001b[0;34m'str_'\u001b[0m\u001b[0;31m \u001b[0m\u001b[0;31m\\\u001b[0m\u001b[0;34m\u001b[0m\u001b[0;34m\u001b[0m\u001b[0m\n\u001b[1;32m     57\u001b[0m             \u001b[0;32mand\u001b[0m \u001b[0melem_type\u001b[0m\u001b[0;34m.\u001b[0m\u001b[0m__name__\u001b[0m \u001b[0;34m!=\u001b[0m \u001b[0;34m'string_'\u001b[0m\u001b[0;34m:\u001b[0m\u001b[0;34m\u001b[0m\u001b[0;34m\u001b[0m\u001b[0m\n",
      "\u001b[0;31mRuntimeError\u001b[0m: stack expects each tensor to be equal size, but got [68, 68, 2] at entry 0 and [0] at entry 3"
     ]
    }
   ],
   "source": [
    "batch_size = 10\n",
    "num_epochs = 50\n",
    "\n",
    "trainloader = torch.utils.data.DataLoader(train_data, batch_size=batch_size, shuffle=True)\n",
    "testloader = torch.utils.data.DataLoader(test_data, batch_size=batch_size, shuffle=False)\n",
    "\n",
    "dataiter = iter(trainloader)\n",
    "data = dataiter.next()\n",
    "keys = list(label_encoder_dict.keys())\n",
    "values = list(label_encoder_dict.values())"
   ]
  },
  {
   "cell_type": "code",
   "execution_count": 684,
   "metadata": {},
   "outputs": [],
   "source": [
    "class Emotion_CNN(nn.Module):\n",
    "    def __init__ (self):\n",
    "        super(Emotion_CNN, self).__init__()\n",
    "        #layer 1\n",
    "        self.conv1 = nn.Conv2d(1, 128, kernel_size=2, stride=2) #in, out, kernel, stride\n",
    "        self.conv1b = nn.BatchNorm2d(128) #output of previous step\n",
    "        self.pool1 = nn.MaxPool2d(2, 2, padding=1) #kernel, stride\n",
    "        self.dropout = nn.Dropout(0) #0-1 value \n",
    "        \n",
    "        #layer 2\n",
    "        self.conv2 = nn.Conv2d(128, 64, kernel_size=2, stride=1) #in, out, kernel, stride\n",
    "        self.conv2b = nn.BatchNorm2d(64) #output of previous step\n",
    "        self.pool2 = nn.MaxPool2d(2, 2, padding=1) #kernel, stride\n",
    "        self.dropout = nn.Dropout(0) #0-1 value \n",
    "        \n",
    "        #layer 3\n",
    "        self.conv3 = nn.Conv2d(64, 32, kernel_size=4, stride=1) #in, out, kernel, stride\n",
    "        self.conv3b = nn.BatchNorm2d(32) #output of previous step\n",
    "        self.pool3 = nn.MaxPool2d(2, 2, padding=1) #kernel, stride\n",
    "        self.dropout = nn.Dropout(0) #0-1 value \n",
    "        \n",
    "        #layer 4\n",
    "        self.conv4 = nn.Conv2d(32, 16, kernel_size=4, stride=1) #in, out, kernel, stride\n",
    "        self.conv4b = nn.BatchNorm2d(16) #output of previous step\n",
    "        self.pool4 = nn.MaxPool2d(2, 2, padding=1) #kernel, stride\n",
    "        self.dropout = nn.Dropout(0) #0-1 value \n",
    "        \n",
    "        #layer 5\n",
    "        self.conv5 = nn.Conv2d(16, 8, kernel_size=4, stride=1) #in, out, kernel, stride\n",
    "        self.conv5b = nn.BatchNorm2d(8) #output of previous step\n",
    "        self.pool5 = nn.MaxPool2d(2, 2, padding=1) #kernel, stride\n",
    "        self.dropout = nn.Dropout(0) #0-1 value \n",
    "\n",
    "        ##fully connected\n",
    "        self.fc1 = nn.Linear(in_features= 8 * 3 * 3, out_features=120)\n",
    "        self.fc2 = nn.Linear(in_features = 120, out_features = 700)\n",
    "        self.fc3 = nn.Linear(in_features = 700, out_features = 100)\n",
    "        self.fc4 = nn.Linear(in_features = 100, out_features = 7)\n",
    "        \n",
    "        self.soft = nn.Softmax(dim=1)\n",
    "    \n",
    "        \n",
    "    def forward(self, x):\n",
    "        print(x.shape)\n",
    "        x = self.pool1(F.relu(self.dropout(self.conv1b(self.conv1(x)))))\n",
    "        print(x.shape)\n",
    "        x = self.pool2(F.relu(self.dropout(self.conv2b(self.conv2(x)))))\n",
    "        print(x.shape)\n",
    "        x = self.pool3(F.relu(self.dropout(self.conv3b(self.conv3(x)))))\n",
    "        print(x.shape)\n",
    "        x = self.pool4(F.relu(self.dropout(self.conv4b(self.conv4(x)))))\n",
    "        print(x.shape)\n",
    "        x = self.pool5(F.relu(self.dropout(self.conv5b(self.conv5(x)))))\n",
    "        print(x.shape)\n",
    "        x = x.view(10, -1)\n",
    "        print(x.shape)\n",
    "        x = F.relu(self.fc1(x))\n",
    "        print(x.shape)\n",
    "        x = F.relu(self.fc2(x))\n",
    "#         print(x.shape)\n",
    "        x = F.relu(self.fc3(x))\n",
    "#         print(x.shape)\n",
    "        x = self.fc4(x)\n",
    "#         print(x.shape)\n",
    "        x = self.soft(x)\n",
    "#         print(x.shape)\n",
    "        return x\n",
    "        \n",
    "cnn = Emotion_CNN()"
   ]
  },
  {
   "cell_type": "code",
   "execution_count": 685,
   "metadata": {},
   "outputs": [],
   "source": [
    "class FeedForward(nn.Module): \n",
    "    def __init__(self):\n",
    "        super(FeedForward, self).__init__() \n",
    "        self.fc1 = nn.Linear(68*2, 300)\n",
    "        self.fc2 = nn.Linear(300, 700)\n",
    "        self.fc3 = nn.Linear(700, 500)\n",
    "        self.fc4 = nn.Linear(500, 300)\n",
    "        self.fc5 = nn.Linear(300, 200)\n",
    "        self.fc6 = nn.Linear(200, 100)\n",
    "        self.output = nn.Linear(100, 7)\n",
    "        self.softmax = nn.Softmax(dim=1)\n",
    "        \n",
    "    def forward(self, x):\n",
    "        x = F.relu(self.fc1(x))\n",
    "        x = F.relu(self.fc2(x))\n",
    "        x = F.relu(self.fc3(x))\n",
    "        x = F.relu(self.fc4(x))\n",
    "        x = F.relu(self.fc5(x))\n",
    "        x = F.relu(self.fc6(x))\n",
    "        x = self.output(x)\n",
    "        x = self.softmax(x)\n",
    "        return x"
   ]
  },
  {
   "cell_type": "code",
   "execution_count": 686,
   "metadata": {},
   "outputs": [
    {
     "name": "stdout",
     "output_type": "stream",
     "text": [
      "Emotion_CNN(\n",
      "  (conv1): Conv2d(1, 128, kernel_size=(2, 2), stride=(2, 2))\n",
      "  (conv1b): BatchNorm2d(128, eps=1e-05, momentum=0.1, affine=True, track_running_stats=True)\n",
      "  (pool1): MaxPool2d(kernel_size=2, stride=2, padding=1, dilation=1, ceil_mode=False)\n",
      "  (dropout): Dropout(p=0, inplace=False)\n",
      "  (conv2): Conv2d(128, 64, kernel_size=(2, 2), stride=(1, 1))\n",
      "  (conv2b): BatchNorm2d(64, eps=1e-05, momentum=0.1, affine=True, track_running_stats=True)\n",
      "  (pool2): MaxPool2d(kernel_size=2, stride=2, padding=1, dilation=1, ceil_mode=False)\n",
      "  (conv3): Conv2d(64, 32, kernel_size=(4, 4), stride=(1, 1))\n",
      "  (conv3b): BatchNorm2d(32, eps=1e-05, momentum=0.1, affine=True, track_running_stats=True)\n",
      "  (pool3): MaxPool2d(kernel_size=2, stride=2, padding=1, dilation=1, ceil_mode=False)\n",
      "  (conv4): Conv2d(32, 16, kernel_size=(4, 4), stride=(1, 1))\n",
      "  (conv4b): BatchNorm2d(16, eps=1e-05, momentum=0.1, affine=True, track_running_stats=True)\n",
      "  (pool4): MaxPool2d(kernel_size=2, stride=2, padding=1, dilation=1, ceil_mode=False)\n",
      "  (conv5): Conv2d(16, 8, kernel_size=(4, 4), stride=(1, 1))\n",
      "  (conv5b): BatchNorm2d(8, eps=1e-05, momentum=0.1, affine=True, track_running_stats=True)\n",
      "  (pool5): MaxPool2d(kernel_size=2, stride=2, padding=1, dilation=1, ceil_mode=False)\n",
      "  (fc1): Linear(in_features=72, out_features=120, bias=True)\n",
      "  (fc2): Linear(in_features=120, out_features=700, bias=True)\n",
      "  (fc3): Linear(in_features=700, out_features=100, bias=True)\n",
      "  (fc4): Linear(in_features=100, out_features=7, bias=True)\n",
      "  (soft): Softmax(dim=1)\n",
      ")\n"
     ]
    }
   ],
   "source": [
    "from torch.optim import Adam, SGD\n",
    "optimizer = Adam(cnn.parameters(), lr=1e-2)\n",
    "criterion = nn.CrossEntropyLoss()\n",
    "print(cnn)"
   ]
  },
  {
   "cell_type": "code",
   "execution_count": 36,
   "metadata": {},
   "outputs": [
    {
     "ename": "NameError",
     "evalue": "name 'trainloader' is not defined",
     "output_type": "error",
     "traceback": [
      "\u001b[0;31m---------------------------------------------------------------------------\u001b[0m",
      "\u001b[0;31mNameError\u001b[0m                                 Traceback (most recent call last)",
      "\u001b[0;32m<ipython-input-36-516f317924ab>\u001b[0m in \u001b[0;36m<module>\u001b[0;34m\u001b[0m\n\u001b[1;32m      2\u001b[0m \u001b[0;32mfor\u001b[0m \u001b[0mepoch\u001b[0m \u001b[0;32min\u001b[0m \u001b[0mrange\u001b[0m\u001b[0;34m(\u001b[0m\u001b[0;36m0\u001b[0m\u001b[0;34m,\u001b[0m \u001b[0;36m20\u001b[0m\u001b[0;34m)\u001b[0m\u001b[0;34m:\u001b[0m\u001b[0;34m\u001b[0m\u001b[0;34m\u001b[0m\u001b[0m\n\u001b[1;32m      3\u001b[0m     \u001b[0mrunning_loss\u001b[0m \u001b[0;34m=\u001b[0m \u001b[0;36m0.0\u001b[0m\u001b[0;34m\u001b[0m\u001b[0;34m\u001b[0m\u001b[0m\n\u001b[0;32m----> 4\u001b[0;31m     \u001b[0;32mfor\u001b[0m \u001b[0mi\u001b[0m\u001b[0;34m,\u001b[0m \u001b[0mdata\u001b[0m \u001b[0;32min\u001b[0m \u001b[0menumerate\u001b[0m\u001b[0;34m(\u001b[0m\u001b[0mtrainloader\u001b[0m\u001b[0;34m,\u001b[0m \u001b[0;36m0\u001b[0m\u001b[0;34m)\u001b[0m\u001b[0;34m:\u001b[0m\u001b[0;34m\u001b[0m\u001b[0;34m\u001b[0m\u001b[0m\n\u001b[0m\u001b[1;32m      5\u001b[0m         \u001b[0minputs\u001b[0m \u001b[0;34m=\u001b[0m \u001b[0mdata\u001b[0m\u001b[0;34m[\u001b[0m\u001b[0;36m0\u001b[0m\u001b[0;34m]\u001b[0m\u001b[0;34m\u001b[0m\u001b[0;34m\u001b[0m\u001b[0m\n\u001b[1;32m      6\u001b[0m         \u001b[0mlabels\u001b[0m \u001b[0;34m=\u001b[0m \u001b[0mdata\u001b[0m\u001b[0;34m[\u001b[0m\u001b[0;36m1\u001b[0m\u001b[0;34m]\u001b[0m\u001b[0;34m\u001b[0m\u001b[0;34m\u001b[0m\u001b[0m\n",
      "\u001b[0;31mNameError\u001b[0m: name 'trainloader' is not defined"
     ]
    }
   ],
   "source": [
    "train_losses = []\n",
    "for epoch in range(0, 20):\n",
    "    running_loss = 0.0\n",
    "    for i, data in enumerate(trainloader, 0):\n",
    "        inputs = data[0]\n",
    "        labels = data[1]\n",
    "        inputs = inputs.view(10, 1, 256, 256)\n",
    "        optimizer.zero_grad()\n",
    "        outputs = cnn(inputs)\n",
    "        labels = torch.squeeze(labels)\n",
    "        labels = labels.type(torch.LongTensor)\n",
    "#         print('Output', outputs.shape)\n",
    "#         print('Input', inputs.shape)\n",
    "#         print('Label', labels.shape)\n",
    "#         print(torch.max(labels, 1)[1]) #we're using the index of the max value in each label\n",
    "#         print(labels)\n",
    "        loss = criterion(outputs, torch.max(labels, 1)[1])\n",
    "        train_losses.append(loss)\n",
    "        loss.backward()\n",
    "        optimizer.step()\n",
    "        running_loss += loss.item()\n",
    "        print(f\"Epoch: {epoch} Training loss: {loss}\")  \n",
    "\n",
    "    print(f\"Epoch: {epoch} Training loss: {running_loss}\")  \n",
    "\n",
    "\n",
    "print('Finished Training')\n",
    "\n",
    "plt.plot(train_losses)\n",
    "plt.show()"
   ]
  },
  {
   "cell_type": "code",
   "execution_count": null,
   "metadata": {},
   "outputs": [],
   "source": []
  }
 ],
 "metadata": {
  "kernelspec": {
   "display_name": "Python 3",
   "language": "python",
   "name": "python3"
  },
  "language_info": {
   "codemirror_mode": {
    "name": "ipython",
    "version": 3
   },
   "file_extension": ".py",
   "mimetype": "text/x-python",
   "name": "python",
   "nbconvert_exporter": "python",
   "pygments_lexer": "ipython3",
   "version": "3.8.3"
  }
 },
 "nbformat": 4,
 "nbformat_minor": 4
}
