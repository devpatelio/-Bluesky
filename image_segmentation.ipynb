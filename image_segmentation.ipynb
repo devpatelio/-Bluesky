{
 "cells": [
  {
   "cell_type": "code",
   "execution_count": 1,
   "metadata": {},
   "outputs": [
    {
     "name": "stdout",
     "output_type": "stream",
     "text": [
      "fatal: destination path 'opencv' already exists and is not an empty directory.\n"
     ]
    }
   ],
   "source": [
    "!cd /Users/devpatelio/Downloads/Coding/Python/pyTorch/image_mood\n",
    "!git clone https://github.com/opencv/opencv.git"
   ]
  },
  {
   "cell_type": "code",
   "execution_count": 2,
   "metadata": {},
   "outputs": [],
   "source": [
    "import numpy as np\n",
    "import pandas as pd\n",
    "import torch.nn as nn\n",
    "import torch\n",
    "import matplotlib.pyplot as plt\n",
    "import os\n",
    "import cv2\n",
    "\n",
    "from torch.utils.data import Dataset, DataLoader\n",
    "from torchvision import transforms, utils\n",
    "from torch import optim as optim, functional as F\n",
    "import torch\n",
    "import torchvision\n",
    "import torch.nn as nn\n",
    "import torchvision.transforms as transforms\n",
    "import numpy as np\n",
    "import matplotlib.pyplot as plt\n",
    "from PIL import Image\n",
    "from torchvision.transforms import ToTensor\n",
    "\n",
    "from IPython.core.interactiveshell import InteractiveShell\n",
    "InteractiveShell.ast_node_interactivity = \"all\"\n",
    " "
   ]
  },
  {
   "cell_type": "code",
   "execution_count": 3,
   "metadata": {},
   "outputs": [
    {
     "name": "stdout",
     "output_type": "stream",
     "text": [
      "4.5.1\n",
      "ferdata.zip: Skipping, found more recently modified local copy (use --force to force download)\n"
     ]
    }
   ],
   "source": [
    "print(cv2.__version__)\n",
    "!kaggle datasets download -d chiragsoni/ferdata"
   ]
  },
  {
   "cell_type": "code",
   "execution_count": 4,
   "metadata": {},
   "outputs": [
    {
     "name": "stdout",
     "output_type": "stream",
     "text": [
      "zsh:cd:1: no such file or directory: /Users/devpatelio/Downloads/Coding/Python/pyTorch/image_mood\n"
     ]
    }
   ],
   "source": [
    "!cd /Users/devpatelio/Downloads/Coding/Python/pyTorch/image_mood"
   ]
  },
  {
   "cell_type": "code",
   "execution_count": 6,
   "metadata": {},
   "outputs": [],
   "source": [
    "import torchvision.transforms as transforms\n",
    "\n",
    "label_names = ['angry', 'disgust', 'fear', 'happy', 'neutral', 'sad', 'surprise']\n",
    "one_hot_template = torch.zeros(len(label_names), len(label_names))\n",
    "\n",
    "for i in range(0, len(label_names)):\n",
    "    one_hot_template[i][i] = 1\n",
    "\n",
    "label_encoder_dict = {label_names[i]: one_hot_template[i] for i in range(0, len(label_names))}\n",
    "    \n",
    "class FacialImages(Dataset):\n",
    "    def __init__(self, directory, label_directory_names):\n",
    "        loader = os.listdir(str(directory))\n",
    "        labels = label_directory_names\n",
    "        self.dataset = []\n",
    "        final_labelled_directories = []\n",
    "        self.transform = transforms.Compose([transforms.ToTensor()])\n",
    "        loader.remove(loader[1])\n",
    "\n",
    "        for counter, i in enumerate(loader):\n",
    "            final_labelled_directories.append([directory + '/' + i, i])\n",
    "\n",
    "        for i, g in final_labelled_directories:\n",
    "            label_loader = os.listdir(i)\n",
    "            for x in label_loader:\n",
    "                if x == '.ipynb_checkpoints': #cunt boi never broke again\n",
    "                    continue\n",
    "                with Image.open(i +'/' + x) as image:\n",
    "                    trs_image = self.transform(image.resize((256, 256)))\n",
    "                    self.dataset.append([trs_image.view(1, -1), label_encoder_dict[g], str(i +'/' + x)])\n",
    "    \n",
    "    def __len__(self):\n",
    "        return(len(self.dataset))\n",
    "    \n",
    "    def __getitem__(self, index):\n",
    "        image = self.dataset[index][0]\n",
    "        label = self.dataset[index][1]\n",
    "        directory = self.dataset[index][2]\n",
    "        \n",
    "        return [image, label, directory]\n",
    "        \n",
    "        \n",
    "    def image_view(self, index):\n",
    "        array = self.dataset[index][0].view(256, -1)\n",
    "        return plt.imshow(array.numpy(), cmap='gray'), array\n",
    "\n",
    "train_data = FacialImages('/Users/devpatelio/Downloads/Coding/Python/pyTorch/conversation_mood/image_mood/ferdata/train', label_names)\n",
    "test_data = FacialImages('/Users/devpatelio/Downloads/Coding/Python/pyTorch/conversation_mood/image_mood/ferdata/test', label_names)"
   ]
  },
  {
   "cell_type": "code",
   "execution_count": 14,
   "metadata": {},
   "outputs": [],
   "source": [
    "import cv2\n",
    "import numpy as np\n",
    "import dlib\n",
    "from imutils import face_utils\n",
    "\n",
    "detector = dlib.get_frontal_face_detector()\n",
    "predictor = dlib.shape_predictor(\"/Users/devpatelio/Downloads/Coding/Python/pyTorch/conversation_mood/image_mood/shape_predictor_68_face_landmarks.dat\")\n",
    "\n",
    "\n",
    "path = train_data[9][2]\n",
    "image = cv2.imread(path, 0)\n",
    "rects = detector(image, 0)\n",
    "\n",
    "facial_landmark_function(rects)\n",
    "\n",
    "for (i, rect) in enumerate(rects):\n",
    "    # Make the prediction and transfom it to numpy array\n",
    "    shape = predictor(image, rect)\n",
    "    shape = face_utils.shape_to_np(shape)\n",
    "\n",
    "    # Draw on our image, all the finded cordinate points (x,y) \n",
    "    for (x, y) in shape:\n",
    "        cv2.circle(image, (x, y), 2, (0, 255, 0), -1)\n",
    "\n",
    "# Show the image\n",
    "cv2.imshow(\"Output\", image)"
   ]
  },
  {
   "cell_type": "code",
   "execution_count": 11,
   "metadata": {},
   "outputs": [
    {
     "data": {
      "text/plain": [
       "(<matplotlib.image.AxesImage at 0x7fdf8673c3d0>,\n",
       " tensor([[0.0196, 0.0196, 0.0196,  ..., 0.0314, 0.0314, 0.0353],\n",
       "         [0.0196, 0.0196, 0.0196,  ..., 0.0314, 0.0314, 0.0353],\n",
       "         [0.0196, 0.0196, 0.0196,  ..., 0.0314, 0.0314, 0.0353],\n",
       "         ...,\n",
       "         [0.0627, 0.0627, 0.0588,  ..., 0.0431, 0.0431, 0.0431],\n",
       "         [0.0627, 0.0627, 0.0588,  ..., 0.0431, 0.0431, 0.0431],\n",
       "         [0.0667, 0.0667, 0.0588,  ..., 0.0431, 0.0431, 0.0431]]))"
      ]
     },
     "execution_count": 11,
     "metadata": {},
     "output_type": "execute_result"
    },
    {
     "data": {
      "image/png": "[encoded data removed]",
      "text/plain": [
       "<Figure size 432x288 with 1 Axes>"
      ]
     },
     "metadata": {
      "needs_background": "light"
     },
     "output_type": "display_data"
    }
   ],
   "source": [
    "test_data.image_view(0)"
   ]
  },
  {
   "cell_type": "code",
   "execution_count": 5,
   "metadata": {},
   "outputs": [],
   "source": [
    "# !pip install opencv-contrib-python"
   ]
  },
  {
   "cell_type": "code",
   "execution_count": 12,
   "metadata": {},
   "outputs": [
    {
     "data": {
      "text/plain": [
       "array([[255, 255, 255, ..., 255, 255, 255],\n",
       "       [255, 255, 255, ..., 255, 255, 255],\n",
       "       [255, 255,  99, ...,  27,  29, 255],\n",
       "       ...,\n",
       "       [255, 255, 197, ...,  26,  28, 255],\n",
       "       [255, 255, 197, ...,  26,  28, 255],\n",
       "       [255, 255, 255, ..., 255, 255, 255]], dtype=uint8)"
      ]
     },
     "execution_count": 12,
     "metadata": {},
     "output_type": "execute_result"
    },
    {
     "ename": "AttributeError",
     "evalue": "'cv2.face_LBPHFaceRecognizer' object has no attribute 'loadModel'",
     "output_type": "error",
     "traceback": [
      "\u001b[0;31m---------------------------------------------------------------------------\u001b[0m",
      "\u001b[0;31mAttributeError\u001b[0m                            Traceback (most recent call last)",
      "\u001b[0;32m<ipython-input-12-46f94dcb7703>\u001b[0m in \u001b[0;36m<module>\u001b[0;34m\u001b[0m\n\u001b[1;32m     17\u001b[0m \u001b[0mlbf\u001b[0m \u001b[0;34m=\u001b[0m \u001b[0;34m'/Users/devpatelio/Downloads/Coding/Python/pyTorch/conversation_mood/image_mood/lbfmodel.yml'\u001b[0m\u001b[0;34m\u001b[0m\u001b[0;34m\u001b[0m\u001b[0m\n\u001b[1;32m     18\u001b[0m \u001b[0mlandmark_detector\u001b[0m  \u001b[0;34m=\u001b[0m \u001b[0mcv2\u001b[0m\u001b[0;34m.\u001b[0m\u001b[0mface\u001b[0m\u001b[0;34m.\u001b[0m\u001b[0mLBPHFaceRecognizer_create\u001b[0m\u001b[0;34m(\u001b[0m\u001b[0;34m)\u001b[0m\u001b[0;34m\u001b[0m\u001b[0;34m\u001b[0m\u001b[0m\n\u001b[0;32m---> 19\u001b[0;31m \u001b[0mlandmark_detector\u001b[0m\u001b[0;34m.\u001b[0m\u001b[0mloadModel\u001b[0m\u001b[0;34m(\u001b[0m\u001b[0mLBFmodel\u001b[0m\u001b[0;34m)\u001b[0m\u001b[0;34m\u001b[0m\u001b[0;34m\u001b[0m\u001b[0m\n\u001b[0m\u001b[1;32m     20\u001b[0m \u001b[0;34m\u001b[0m\u001b[0m\n\u001b[1;32m     21\u001b[0m \u001b[0m_\u001b[0m\u001b[0;34m,\u001b[0m \u001b[0mlandmarks\u001b[0m \u001b[0;34m=\u001b[0m \u001b[0mlandmark_detector\u001b[0m\u001b[0;34m.\u001b[0m\u001b[0mfit\u001b[0m\u001b[0;34m(\u001b[0m\u001b[0mimg\u001b[0m\u001b[0;34m,\u001b[0m \u001b[0mfaces\u001b[0m\u001b[0;34m)\u001b[0m\u001b[0;34m\u001b[0m\u001b[0;34m\u001b[0m\u001b[0m\n",
      "\u001b[0;31mAttributeError\u001b[0m: 'cv2.face_LBPHFaceRecognizer' object has no attribute 'loadModel'"
     ]
    }
   ],
   "source": [
    "import cv2\n",
    "face_cascade = cv2.CascadeClassifier(cv2.data.haarcascades + 'haarcascade_frontalface_default.xml')\n",
    "eye_cascade = cv2.CascadeClassifier(cv2.data.haarcascades + 'haarcascade_eye.xml')\n",
    "\n",
    "img = cv2.resize(cv2.imread('/Users/devpatelio/Downloads/image (8).png', 0), (1024, 1024))\n",
    "faces = face_cascade.detectMultiScale(img)\n",
    "\n",
    "for (x,y,w,h) in faces:\n",
    "    face = (x,y,w,h)\n",
    "    img = cv2.rectangle(img,(x,y),(x+w,y+h),(255,0,0),2)\n",
    "    roi_gray = img[y:y+h, x:x+w]\n",
    "    roi_color = img[y:y+h, x:x+w]\n",
    "    eyes = eye_cascade.detectMultiScale(roi_gray)\n",
    "    for (ex,ey,ew,eh) in eyes:\n",
    "        cv2.rectangle(roi_color,(ex,ey),(ex+ew,ey+eh),(0,255,0),2)\n",
    "\n",
    "lbf = '/Users/devpatelio/Downloads/Coding/Python/pyTorch/conversation_mood/image_mood/lbfmodel.yml'\n",
    "landmark_detector  = cv2.face.LBPHFaceRecognizer_create()\n",
    "landmark_detector.loadModel(LBFmodel)\n",
    "\n",
    "_, landmarks = landmark_detector.fit(img, faces)\n",
    "\n",
    "for landmark in landmarks:\n",
    "    for x,y in landmark[0]:\n",
    "        # display landmarks on \"image_cropped\"\n",
    "        # with white colour in BGR and thickness 1\n",
    "        cv2.circle(img, (x, y), 1, (255, 255, 255), 1)\n",
    "        \n",
    "cv2.imshow(img)\n"
   ]
  },
  {
   "cell_type": "code",
   "execution_count": 6,
   "metadata": {},
   "outputs": [],
   "source": [
    "def list_string(path):\n",
    "    std = \"\"\n",
    "    for i in path:\n",
    "        std = std+i\n",
    "        return std"
   ]
  },
  {
   "cell_type": "code",
   "execution_count": 13,
   "metadata": {},
   "outputs": [],
   "source": [
    "def landmark_view(coords):\n",
    "    x_landmarks = []\n",
    "    y_landmarks = []\n",
    "    for i in coords:\n",
    "        x_landmarks.append(-int(i[0]))\n",
    "        y_landmarks.append(-int(i[1]))\n",
    "    plt.scatter(x_landmarks, y_landmarks)\n",
    "    plt.show()\n",
    "    \n",
    "def facial_landmark_function(predictor_output):\n",
    "    for face in predictor_output:\n",
    "        landmarks = shape_predictor(img, face)\n",
    "        landmarks_list = []\n",
    "        for i in range(0, landmarks.num_parts):\n",
    "            landmarks_list.append((landmarks.part(i).x, landmarks.part(i).y))\n",
    "        for landmark_num, xy in enumerate(landmarks_list, start = 1):\n",
    "            cv2.circle(img, (xy[0], xy[1]), 12, (168, 0, 20), -1)\n",
    "            cv2.putText(img, str(landmark_num),(xy[0]-7,xy[1]+5), cv2.FONT_HERSHEY_SIMPLEX, 0.4,(255,255,255), 1)\n",
    "        return landmarks_list"
   ]
  },
  {
   "cell_type": "code",
   "execution_count": 8,
   "metadata": {},
   "outputs": [],
   "source": [
    "import dlib\n",
    "import cv2\n",
    "from matplotlib import pyplot as plt, transforms\n",
    "from imutils import face_utils\n",
    "\n",
    "# img = cv2.resize(cv2.imread('/Users/devpatelio/Downloads/Screen Shot 2021-04-20 at 1.47.17 PM.png', 0), (1024, 1024))\n",
    "\n",
    "face_predictor = dlib.get_frontal_face_detector()\n",
    "shape_predictor = dlib.shape_predictor(\"/Users/devpatelio/Downloads/Coding/Python/pyTorch/image_mood/shape_predictor_68_face_landmarks.dat\")\n",
    "landmarks_list = []\n",
    "\n",
    "for x in range(0, 5):\n",
    "    path = train_data[x][2]\n",
    "    img = cv2.resize(cv2.imread(path, 0), (1024, 1024))\n",
    "    detects = face_predictor(img, 0)\n",
    "\n",
    "    for (i, detect) in enumerate(detects):\n",
    "        shape = shape_predictor(img, detect) #image, bounding_box for restriction\n",
    "        shape = face_utils.shape_to_np(shape)\n",
    "        \n",
    "        landmarks_list.append([(x, y) for (x, y) in shape])\n",
    "    "
   ]
  },
  {
   "cell_type": "code",
   "execution_count": 9,
   "metadata": {},
   "outputs": [
    {
     "name": "stdout",
     "output_type": "stream",
     "text": [
      "3\n"
     ]
    }
   ],
   "source": [
    "print(len(landmarks_list))"
   ]
  },
  {
   "cell_type": "code",
   "execution_count": 10,
   "metadata": {},
   "outputs": [
    {
     "name": "stdout",
     "output_type": "stream",
     "text": [
      "[[(22, 503), (50, 613), (85, 723), (128, 828), (184, 923), (267, 995), (377, 1035), (498, 1058), (621, 1054), (736, 1035), (824, 982), (892, 899), (933, 791), (950, 677), (953, 559), (949, 441), (931, 325), (87, 385), (143, 341), (217, 324), (291, 334), (368, 351), (569, 319), (629, 271), (696, 236), (772, 222), (842, 243), (502, 404), (521, 479), (540, 553), (558, 629), (470, 697), (517, 706), (566, 712), (605, 692), (639, 669), (198, 452), (244, 409), (307, 401), (365, 436), (309, 455), (248, 464), (613, 395), (654, 341), (716, 325), (771, 347), (732, 380), (672, 393), (400, 847), (462, 825), (522, 806), (570, 811), (611, 791), (670, 790), (736, 796), (687, 852), (635, 880), (589, 892), (540, 897), (473, 886), (423, 851), (527, 840), (575, 839), (618, 828), (713, 807), (622, 829), (580, 842), (533, 845)], [(-2, 434), (-10, 568), (-1, 697), (12, 819), (40, 933), (112, 1016), (232, 1054), (375, 1063), (524, 1057), (668, 1059), (809, 1045), (934, 1009), (1006, 926), (1025, 816), (1030, 697), (1044, 588), (1051, 472), (64, 203), (136, 127), (237, 88), (348, 91), (449, 128), (664, 131), (775, 110), (882, 119), (972, 161), (1024, 236), (558, 285), (556, 392), (554, 498), (552, 605), (442, 701), (492, 714), (543, 726), (591, 717), (638, 708), (159, 317), (230, 270), (316, 270), (390, 330), (310, 348), (225, 348), (712, 340), (792, 287), (874, 294), (932, 345), (873, 367), (794, 361), (332, 906), (423, 883), (496, 857), (534, 874), (582, 859), (640, 891), (706, 918), (635, 865), (577, 849), (528, 851), (484, 849), (416, 867), (363, 903), (491, 929), (532, 932), (581, 929), (675, 914), (576, 782), (531, 780), (491, 782)], [(52, 291), (56, 417), (67, 541), (84, 666), (123, 784), (193, 884), (277, 962), (371, 1020), (475, 1036), (577, 1019), (666, 945), (740, 845), (802, 733), (847, 619), (876, 505), (892, 391), (896, 274), (141, 171), (197, 125), (269, 104), (344, 120), (416, 153), (581, 154), (656, 132), (732, 121), (805, 144), (856, 197), (499, 225), (497, 291), (497, 357), (497, 427), (403, 491), (450, 504), (499, 519), (546, 503), (592, 488), (216, 246), (266, 219), (321, 217), (374, 251), (318, 253), (264, 252), (618, 250), (668, 220), (721, 224), (768, 251), (718, 258), (666, 255), (277, 641), (342, 589), (438, 574), (502, 584), (559, 573), (641, 591), (699, 643), (640, 785), (558, 848), (494, 856), (427, 847), (334, 785), (294, 645), (439, 599), (501, 607), (558, 601), (677, 646), (557, 793), (496, 803), (431, 795)]]\n"
     ]
    }
   ],
   "source": [
    "print(landmarks_list)\n",
    "# visualise the image with landmarks\n",
    "# cv2.imshow('img',img)\n",
    "# cv2.waitKey(0)\n",
    "# cv2.destroyAllWindows()"
   ]
  },
  {
   "cell_type": "code",
   "execution_count": 11,
   "metadata": {},
   "outputs": [
    {
     "ename": "NameError",
     "evalue": "name 'faces_in_image' is not defined",
     "output_type": "error",
     "traceback": [
      "\u001b[0;31m---------------------------------------------------------------------------\u001b[0m",
      "\u001b[0;31mNameError\u001b[0m                                 Traceback (most recent call last)",
      "\u001b[0;32m<ipython-input-11-1989cff1556c>\u001b[0m in \u001b[0;36m<module>\u001b[0;34m\u001b[0m\n\u001b[0;32m----> 1\u001b[0;31m \u001b[0mcoordinates\u001b[0m \u001b[0;34m=\u001b[0m \u001b[0mfacial_landmark_function\u001b[0m\u001b[0;34m(\u001b[0m\u001b[0mfaces_in_image\u001b[0m\u001b[0;34m)\u001b[0m\u001b[0;34m\u001b[0m\u001b[0;34m\u001b[0m\u001b[0m\n\u001b[0m\u001b[1;32m      2\u001b[0m \u001b[0mprint\u001b[0m\u001b[0;34m(\u001b[0m\u001b[0mcoordinates\u001b[0m\u001b[0;34m)\u001b[0m\u001b[0;34m\u001b[0m\u001b[0;34m\u001b[0m\u001b[0m\n",
      "\u001b[0;31mNameError\u001b[0m: name 'faces_in_image' is not defined"
     ]
    }
   ],
   "source": [
    "coordinates = facial_landmark_function(faces_in_image)\n",
    "print(coordinates)"
   ]
  },
  {
   "cell_type": "code",
   "execution_count": null,
   "metadata": {},
   "outputs": [],
   "source": [
    "batch_size = 10\n",
    "num_epochs = 50\n",
    "\n",
    "trainloader = torch.utils.data.DataLoader(train_data, batch_size=batch_size, shuffle=False)\n",
    "testloader = torch.utils.data.DataLoader(test_data, batch_size=batch_size, shuffle=False)\n",
    "\n",
    "\n",
    "dataiter = iter(trainloader)\n",
    "data = dataiter.next()\n",
    "\n",
    "keys = list(label_encoder_dict.keys())\n",
    "values = list(label_encoder_dict.values())\n",
    "\n",
    "\n",
    "print(data[0][0], data[1][0])\n",
    "train_data.image_view(0)\n"
   ]
  },
  {
   "cell_type": "code",
   "execution_count": 96,
   "metadata": {},
   "outputs": [
    {
     "name": "stdout",
     "output_type": "stream",
     "text": [
      "torch.Size([1, 65536])\n"
     ]
    }
   ],
   "source": [
    "print(data[0][0].shape)"
   ]
  },
  {
   "cell_type": "code",
   "execution_count": 2,
   "metadata": {},
   "outputs": [
    {
     "ename": "NameError",
     "evalue": "name 'nn' is not defined",
     "output_type": "error",
     "traceback": [
      "\u001b[0;31m---------------------------------------------------------------------------\u001b[0m",
      "\u001b[0;31mNameError\u001b[0m                                 Traceback (most recent call last)",
      "\u001b[0;32m<ipython-input-2-199a1f8ed0df>\u001b[0m in \u001b[0;36m<module>\u001b[0;34m\u001b[0m\n\u001b[0;32m----> 1\u001b[0;31m \u001b[0;32mclass\u001b[0m \u001b[0mEmotion_CNN\u001b[0m\u001b[0;34m(\u001b[0m\u001b[0mnn\u001b[0m\u001b[0;34m.\u001b[0m\u001b[0mModule\u001b[0m\u001b[0;34m)\u001b[0m\u001b[0;34m:\u001b[0m\u001b[0;34m\u001b[0m\u001b[0;34m\u001b[0m\u001b[0m\n\u001b[0m\u001b[1;32m      2\u001b[0m     \u001b[0;32mdef\u001b[0m \u001b[0m__init__\u001b[0m \u001b[0;34m(\u001b[0m\u001b[0mself\u001b[0m\u001b[0;34m)\u001b[0m\u001b[0;34m:\u001b[0m\u001b[0;34m\u001b[0m\u001b[0;34m\u001b[0m\u001b[0m\n\u001b[1;32m      3\u001b[0m         \u001b[0msuper\u001b[0m\u001b[0;34m(\u001b[0m\u001b[0mEmotion_CNN\u001b[0m\u001b[0;34m,\u001b[0m \u001b[0mself\u001b[0m\u001b[0;34m)\u001b[0m\u001b[0;34m.\u001b[0m\u001b[0m__init__\u001b[0m\u001b[0;34m(\u001b[0m\u001b[0;34m)\u001b[0m\u001b[0;34m\u001b[0m\u001b[0;34m\u001b[0m\u001b[0m\n\u001b[1;32m      4\u001b[0m         \u001b[0;31m#layer 1\u001b[0m\u001b[0;34m\u001b[0m\u001b[0;34m\u001b[0m\u001b[0;34m\u001b[0m\u001b[0m\n\u001b[1;32m      5\u001b[0m         \u001b[0mself\u001b[0m\u001b[0;34m.\u001b[0m\u001b[0mconv1\u001b[0m \u001b[0;34m=\u001b[0m \u001b[0mnn\u001b[0m\u001b[0;34m.\u001b[0m\u001b[0mConv2d\u001b[0m\u001b[0;34m(\u001b[0m\u001b[0;36m1\u001b[0m\u001b[0;34m,\u001b[0m \u001b[0;36m128\u001b[0m\u001b[0;34m,\u001b[0m \u001b[0mkernel\u001b[0m\u001b[0;34m=\u001b[0m\u001b[0;36m4\u001b[0m\u001b[0;34m,\u001b[0m \u001b[0mstride\u001b[0m\u001b[0;34m=\u001b[0m\u001b[0;36m2\u001b[0m\u001b[0;34m)\u001b[0m \u001b[0;31m#in, out, kernel, stride\u001b[0m\u001b[0;34m\u001b[0m\u001b[0;34m\u001b[0m\u001b[0m\n",
      "\u001b[0;31mNameError\u001b[0m: name 'nn' is not defined"
     ]
    }
   ],
   "source": [
    "class Emotion_CNN(nn.Module):\n",
    "    def __init__ (self):\n",
    "        super(Emotion_CNN, self).__init__()\n",
    "        #layer 1\n",
    "        self.conv1 = nn.Conv2d(1, 128, kernel=2, stride=2) #in, out, kernel, stride\n",
    "        self.conv1b = nn.BatchNorm2d(6) #output of previous step\n",
    "        self.pool1 = nn.MaxPool2d(2, 2, padding=1) #kernel, stride\n",
    "        self.dropout = nn.Dropout(0.3) #0-1 value \n",
    "        \n",
    "        #layer 2\n",
    "        self.conv2 = nn.Conv2d(128, 64, kernel=2, stride=1) #in, out, kernel, stride\n",
    "        self.conv2b = nn.BatchNorm2d(6) #output of previous step\n",
    "        self.pool2 = nn.MaxPool2d(2, 2, padding=1) #kernel, stride\n",
    "        self.dropout = nn.Dropout(0.3) #0-1 value \n",
    "        \n",
    "        #layer 3\n",
    "        self.conv3 = nn.Conv2d(64, 32, kernel=4, stride=1) #in, out, kernel, stride\n",
    "        self.conv3b = nn.BatchNorm2d(6) #output of previous step\n",
    "        self.pool3 = nn.MaxPool2d(2, 2, padding=1) #kernel, stride\n",
    "        self.dropout = nn.Dropout(0.3) #0-1 value \n",
    "        \n",
    "        #layer 4\n",
    "        self.conv4 = nn.Conv2d(32, 16, kernel=4, stride=1) #in, out, kernel, stride\n",
    "        self.conv4b = nn.BatchNorm2d(6) #output of previous step\n",
    "        self.pool4 = nn.MaxPool2d(2, 2, padding=1) #kernel, stride\n",
    "        self.dropout = nn.Dropout(0.3) #0-1 value \n",
    "        \n",
    "        #layer 5\n",
    "        self.conv5 = nn.Conv2d(16, 8, kernel=4, stride=1) #in, out, kernel, stride\n",
    "        self.conv5b = nn.BatchNorm2d(6) #output of previous step\n",
    "        self.pool5 = nn.MaxPool2d(2, 2, padding=1) #kernel, stride\n",
    "        self.dropout = nn.Dropout(0.3) #0-1 value \n",
    "        \n",
    "        ##fully connected\n",
    "        self.fc1 = nn.Linear(92415, 1400)\n",
    "        self.fc2 = nn.Linear(1400, 700)\n",
    "        self.fc3 = nn.Linear(700, 100)\n",
    "        self.fc4 = nn.Linear(100, 7)\n",
    "        \n",
    "        self.soft = nn.Softmax(dim=1)\n",
    "    \n",
    "        \n",
    "    def forward(self, x):\n",
    "        x = self.pool1(F.relu(self.dropout(self.conv1b(self.conv1(x)))))\n",
    "        x = self.pool2(F.relu(self.dropout(self.conv2b(self.conv2(x)))))\n",
    "        x = self.pool3(F.relu(self.dropout(self.conv3b(self.conv3(x)))))\n",
    "        x = self.pool4(F.relu(self.dropout(self.conv4b(self.conv4(x)))))\n",
    "        x = self.pool5(F.relu(self.dropout(self.conv5b(self.conv5(x)))))\n",
    "\n",
    "        x = x.flatten()\n",
    "        x = F.relu(self.fc1(x))\n",
    "        x = F.relu(self.fc2(x))\n",
    "        x = F.relu(self.fc3(x))\n",
    "        x = self.soft(self.fc4(x))\n",
    "        return x\n",
    "        \n",
    "cnn = Emotion_CNN()"
   ]
  },
  {
   "cell_type": "code",
   "execution_count": null,
   "metadata": {},
   "outputs": [],
   "source": [
    "#Layer 1 Conv: 127*127*128\n",
    "#Layer 1 MaxPool2D: 63*63*128\n",
    "\n",
    "#Layer 2 Conv: 62*62*64\n"
   ]
  }
 ],
 "metadata": {
  "kernelspec": {
   "display_name": "Python 3",
   "language": "python",
   "name": "python3"
  },
  "language_info": {
   "codemirror_mode": {
    "name": "ipython",
    "version": 3
   },
   "file_extension": ".py",
   "mimetype": "text/x-python",
   "name": "python",
   "nbconvert_exporter": "python",
   "pygments_lexer": "ipython3",
   "version": "3.8.3"
  }
 },
 "nbformat": 4,
 "nbformat_minor": 4
}
