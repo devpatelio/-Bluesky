{
 "cells": [
  {
   "cell_type": "code",
   "execution_count": null,
   "metadata": {},
   "outputs": [],
   "source": [
    "# !kaggle datasets download -d ejlok1/toronto-emotional-speech-set-tess\n",
    "# !kaggle datasets download -d ejlok1/cremad"
   ]
  },
  {
   "cell_type": "code",
   "execution_count": null,
   "metadata": {},
   "outputs": [],
   "source": [
    "# !kaggle datasets download -d ejlok1/surrey-audiovisual-expressed-emotion-savee\n",
    "# !kaggle datasets download -d uwrfkaggler/ravdess-emotional-speech-audio"
   ]
  },
  {
   "cell_type": "code",
   "execution_count": 8,
   "metadata": {},
   "outputs": [],
   "source": [
    "import pandas as pd\n",
    "import torch\n",
    "import numpy as np\n",
    "import torchaudio\n",
    "import requests\n",
    "import matplotlib.pyplot as plt\n",
    "import librosa\n",
    "import librosa.display\n",
    "import IPython.display as ipd  # To play sound in the notebook\n",
    "import os\n",
    "\n",
    "\n",
    "SAVEE = '/Users/devpatelio/Downloads/Coding/Python/pyTorch/audio_mood/ALL'\n",
    "RAV =  '/Users/devpatelio/Downloads/Coding/Python/pyTorch/audio_mood/ravdess-emotional-speech-audio/audio_speech_actors_01-24'\n",
    "TESS = '/Users/devpatelio/Downloads/Coding/Python/pyTorch/audio_mood/TESS Toronto emotional speech set data'\n",
    "CREMA = '/Users/devpatelio/Downloads/Coding/Python/pyTorch/audio_mood/AudioWAV'\n"
   ]
  },
  {
   "cell_type": "code",
   "execution_count": 9,
   "metadata": {},
   "outputs": [
    {
     "ename": "FileNotFoundError",
     "evalue": "[Errno 2] No such file or directory: '/Users/devpatelio/Downloads/Coding/Python/pyTorch/audio_mood/ALL'",
     "output_type": "error",
     "traceback": [
      "\u001b[0;31m---------------------------------------------------------------------------\u001b[0m",
      "\u001b[0;31mFileNotFoundError\u001b[0m                         Traceback (most recent call last)",
      "\u001b[0;32m<ipython-input-9-0b61c50293f2>\u001b[0m in \u001b[0;36m<module>\u001b[0;34m\u001b[0m\n\u001b[0;32m----> 1\u001b[0;31m \u001b[0mdirlist_SAVEE\u001b[0m \u001b[0;34m=\u001b[0m \u001b[0mos\u001b[0m\u001b[0;34m.\u001b[0m\u001b[0mlistdir\u001b[0m\u001b[0;34m(\u001b[0m\u001b[0mSAVEE\u001b[0m\u001b[0;34m)\u001b[0m\u001b[0;34m\u001b[0m\u001b[0;34m\u001b[0m\u001b[0m\n\u001b[0m\u001b[1;32m      2\u001b[0m \u001b[0memotion_SAVEE\u001b[0m \u001b[0;34m=\u001b[0m \u001b[0;34m[\u001b[0m\u001b[0;34m]\u001b[0m\u001b[0;34m\u001b[0m\u001b[0;34m\u001b[0m\u001b[0m\n\u001b[1;32m      3\u001b[0m \u001b[0mpath_SAVEE\u001b[0m \u001b[0;34m=\u001b[0m \u001b[0;34m[\u001b[0m\u001b[0;34m]\u001b[0m\u001b[0;34m\u001b[0m\u001b[0;34m\u001b[0m\u001b[0m\n\u001b[1;32m      4\u001b[0m \u001b[0;34m\u001b[0m\u001b[0m\n\u001b[1;32m      5\u001b[0m \u001b[0;32mdef\u001b[0m \u001b[0mPrintThree\u001b[0m\u001b[0;34m(\u001b[0m\u001b[0mfilename\u001b[0m\u001b[0;34m)\u001b[0m\u001b[0;34m:\u001b[0m\u001b[0;34m\u001b[0m\u001b[0;34m\u001b[0m\u001b[0m\n",
      "\u001b[0;31mFileNotFoundError\u001b[0m: [Errno 2] No such file or directory: '/Users/devpatelio/Downloads/Coding/Python/pyTorch/audio_mood/ALL'"
     ]
    }
   ],
   "source": [
    "dirlist_SAVEE = os.listdir(SAVEE)\n",
    "emotion_SAVEE = []\n",
    "path_SAVEE = []\n",
    "\n",
    "def PrintThree(filename):\n",
    "    return filename[-8:-6]\n",
    "\n",
    "\n",
    "for i in dirlist_SAVEE:\n",
    "    if PrintThree(i)=='_a':\n",
    "        emotion_SAVEE.append('male_angry')\n",
    "    elif PrintThree(i)=='_d':\n",
    "        emotion_SAVEE.append('male_disgust')\n",
    "    elif PrintThree(i)=='_f':\n",
    "        emotion_SAVEE.append('male_fear')\n",
    "    elif PrintThree(i)=='_h':\n",
    "        emotion_SAVEE.append('male_happy')\n",
    "    elif PrintThree(i)=='sa':\n",
    "        emotion_SAVEE.append('male_sad')\n",
    "    elif PrintThree(i)=='su':\n",
    "        emotion_SAVEE.append('male_surprise')\n",
    "    elif PrintThree(i)=='_n':\n",
    "        emotion_SAVEE.append('male_neutral') \n",
    "    path_SAVEE.append(SAVEE + '/' + i)\n",
    "\n",
    "SAVEE_df = pd.DataFrame(emotion_SAVEE, columns=['labels'])\n",
    "SAVEE_df['source'] = 'SAVEE'\n",
    "SAVEE_df = pd.concat([SAVEE_df, pd.DataFrame(path_SAVEE, columns=['path'])], axis=1)\n",
    "SAVEE_df.labels.value_counts()"
   ]
  },
  {
   "cell_type": "code",
   "execution_count": null,
   "metadata": {},
   "outputs": [],
   "source": [
    "dirlist_RAV = os.listdir(RAV)\n",
    "actor_range = list(range(1, 25))\n",
    "# for i in actor_range:\n",
    "#     actor_range[i] = str(i+1)\n",
    "\n",
    "# for i in actor_range[0:9]:\n",
    "#     actor_range[i] = str(i+1).zfill(2)\n",
    "# actor_range[0] = str(actor_range[0]).zfill(2)\n",
    "# str_actor_range = [str(item) for item in actor_range]\n",
    "# print(str_actor_range)\n",
    "\n",
    "gender_RAV = []\n",
    "emotion_RAV = []\n",
    "path_RAV = []\n",
    "\n",
    "for subdir in dirlist_RAV:\n",
    "    for file in os.listdir(RAV + '/' + subdir):\n",
    "        if str(file[6:8]) == '01':\n",
    "            if int(file[18:20])%2==0:\n",
    "                temp = 'female'\n",
    "            else: \n",
    "                temp = 'male'\n",
    "            gender_RAV.append(temp)\n",
    "            emotion_RAV.append(temp+'_neutral')\n",
    "        elif str(file[6:8]) == '02':\n",
    "            if int(file[18:20])%2==0:\n",
    "                temp = 'female'\n",
    "            else: \n",
    "                temp = 'male'\n",
    "            gender_RAV.append(temp)\n",
    "            emotion_RAV.append(temp+'_calm')\n",
    "        elif str(file[6:8]) == '03':\n",
    "            if int(file[18:20])%2==0:\n",
    "                temp = 'female'\n",
    "            else: \n",
    "                temp = 'male'\n",
    "            gender_RAV.append(temp)\n",
    "            emotion_RAV.append(temp+'_happy')\n",
    "        elif str(file[6:8]) == '04':\n",
    "            if int(file[18:20])%2==0:\n",
    "                temp = 'female'\n",
    "            else: \n",
    "                temp = 'male'\n",
    "            gender_RAV.append(temp)\n",
    "            emotion_RAV.append(temp+'_sad')\n",
    "        elif str(file[6:8]) == '05':\n",
    "            if int(file[18:20])%2==0:\n",
    "                temp = 'female'\n",
    "            else: \n",
    "                temp = 'male'\n",
    "            gender_RAV.append(temp)\n",
    "            emotion_RAV.append(temp+'_angry')\n",
    "        elif str(file[6:8]) == '06':\n",
    "            if int(file[18:20])%2==0:\n",
    "                temp = 'female'\n",
    "            else: \n",
    "                temp = 'male'\n",
    "            gender_RAV.append(temp)\n",
    "            emotion_RAV.append(temp+'_fearful')\n",
    "        elif str(file[6:8]) == '07':\n",
    "            if int(file[18:20])%2==0:\n",
    "                temp = 'female'\n",
    "            else: \n",
    "                temp = 'male'\n",
    "            gender_RAV.append(temp)\n",
    "            emotion_RAV.append(temp+'_disgust')\n",
    "        elif str(file[6:8]) == '08':\n",
    "            if int(file[18:20])%2==0:\n",
    "                temp = 'female'\n",
    "            else: \n",
    "                temp = 'male'\n",
    "            gender_RAV.append(temp)\n",
    "            emotion_RAV.append(temp+'_surprised')\n",
    "        path_RAV.append(RAV + '/' + subdir + '/' + file)\n",
    "        \n",
    "\n",
    "RAV_df = pd.DataFrame(emotion_RAV, columns=['labels'])\n",
    "RAV_df['source'] = 'RAVDESS'\n",
    "RAV_df = pd.concat([RAV_df, pd.DataFrame(path_RAV, columns=['path'])], axis=1)\n",
    "RAV_df.labels.value_counts()\n"
   ]
  },
  {
   "cell_type": "code",
   "execution_count": null,
   "metadata": {},
   "outputs": [],
   "source": [
    "dirlist_TESS = os.listdir(TESS)\n",
    "dirlist_TESS.sort()\n",
    "dirlist_TESS\n",
    "\n",
    "path_TESS = []\n",
    "emotion_TESS = []\n",
    "\n",
    "for i in dirlist_TESS:\n",
    "    for file in os.listdir(TESS + '/' + i):\n",
    "        if i == 'OAF_angry' or i=='YAF_angry':\n",
    "            emotion_TESS.append('female_angry')\n",
    "        elif i == 'OAF_disgust' or i == 'YAF_disgust':\n",
    "            emotion_TESS.append('female_disgust')\n",
    "        elif i == 'OAF_Fear' or i == 'YAF_fear':\n",
    "            emotion_TESS.append('female_fear')\n",
    "        elif i == 'OAF_happy' or i == 'YAF_happy':\n",
    "            emotion_TESS.append('female_happy')\n",
    "        elif i == 'OAF_neutral' or i == 'YAF_neutral':\n",
    "            emotion_TESS.append('female_neutral')                                \n",
    "        elif i == 'OAF_Pleasant_surprise' or i == 'YAF_pleasant_surprised':\n",
    "            emotion_TESS.append('female_surprise')               \n",
    "        elif i == 'OAF_Sad' or i == 'YAF_sad':\n",
    "            emotion_TESS.append('female_sad')\n",
    "        else:\n",
    "            emotion_TESS.append('Unknown')\n",
    "        path_TESS.append(TESS + '/' + i + '/' + file)\n",
    "\n",
    "TESS_df = pd.DataFrame(emotion_TESS, columns=['labels'])\n",
    "TESS_df['source'] = 'TESS'\n",
    "TESS_df = pd.concat([TESS_df, pd.DataFrame(path_TESS, columns=['path'])], axis=1)\n",
    "TESS_df.labels.value_counts()\n"
   ]
  },
  {
   "cell_type": "code",
   "execution_count": null,
   "metadata": {},
   "outputs": [],
   "source": [
    "dirlist_CREMA = os.listdir(CREMA)\n",
    "dirlist_CREMA.sort()\n",
    "\n",
    "gender_CREMA = []\n",
    "emotion_CREMA = []\n",
    "path_CREMA = []\n",
    "female_CREMA = [1002,1003,1004,1006,1007,1008,1009,1010,1012,1013,1018,1020,1021,1024,1025,1028,1029,1030,1037,1043,1046,1047,1049,\n",
    "          1052,1053,1054,1055,1056,1058,1060,1061,1063,1072,1073,1074,1075,1076,1078,1079,1082,1084,1089,1091]\n",
    "\n",
    "for i in dirlist_CREMA:\n",
    "    if int(i[0:4]) in female_CREMA:\n",
    "        temp = 'female'\n",
    "    else: \n",
    "        temp = 'male'\n",
    "    gender_CREMA.append(temp)\n",
    "    \n",
    "    if i[9:12] == 'SAD' and temp == 'male':\n",
    "        emotion_CREMA.append('male_sad')\n",
    "    elif i[9:12] == 'SAD' and temp == 'female':\n",
    "        emotion_CREMA.append('female_sad')\n",
    "    elif i[9:12] == 'ANG' and temp == 'female':\n",
    "        emotion_CREMA.append('female_angry')\n",
    "    elif i[9:12] == 'ANG' and temp == 'male':\n",
    "        emotion_CREMA.append('male_angry')\n",
    "    elif i[9:12] == 'DIS' and temp == 'male':\n",
    "        emotion_CREMA.append('male_disgust')\n",
    "    elif i[9:12] == 'DIS' and temp == 'female':\n",
    "        emotion_CREMA.append('female_disgust')\n",
    "    elif i[9:12] == 'FEA' and temp == 'female':\n",
    "        emotion_CREMA.append('female_fear')\n",
    "    elif i[9:12] == 'FEA' and temp == 'male':\n",
    "        emotion_CREMA.append('male_fear')\n",
    "    elif i[9:12] == 'HAP' and temp == 'female':\n",
    "        emotion_CREMA.append('female_happy')\n",
    "    elif i[9:12] == 'HAP' and temp == 'male':\n",
    "        emotion_CREMA.append('male_happy')\n",
    "    elif i[9:12] == 'NEU' and temp == 'female':\n",
    "        emotion_CREMA.append('female_neutral')\n",
    "    elif i[9:12] == 'NEU' and temp == 'male':\n",
    "        emotion_CREMA.append('male_neutral')\n",
    "    path_CREMA.append(CREMA + '/' + i)\n",
    "    \n",
    "CREMA_df = pd.DataFrame(emotion_CREMA, columns=['labels'])\n",
    "CREMA_df['source'] = 'CREMA'\n",
    "CREMA_df = pd.concat([CREMA_df, pd.DataFrame(path_CREMA, columns=['path'])], axis=1)\n",
    "CREMA_df.labels.value_counts()"
   ]
  },
  {
   "cell_type": "code",
   "execution_count": null,
   "metadata": {},
   "outputs": [],
   "source": [
    "dataset = pd.concat([SAVEE_df, RAV_df, TESS_df, CREMA_df], axis=0)\n",
    "print(dataset.labels.value_counts())\n",
    "dataset.to_csv(\"audio_stuff.csv\", index=False)\n",
    "\n",
    "dataset.iloc[1]"
   ]
  },
  {
   "cell_type": "code",
   "execution_count": null,
   "metadata": {},
   "outputs": [],
   "source": [
    "filename = dataset.iloc[796]['path']\n",
    "wf, sr = librosa.load(filename, res_type='kaiser_fast')\n",
    "mfcc = librosa.feature.mfcc(y=wf, sr=sr)\n",
    "\n",
    "plt.figure(figsize=(20, 15))\n",
    "plt.subplot(3,1,1)\n",
    "librosa.display.waveplot(wf, sr=sr)\n",
    "\n",
    "plt.figure(figsize=(20, 15))\n",
    "plt.subplot(3, 1, 1)\n",
    "librosa.display.specshow(mfcc, x_axis='time')\n",
    "plt.ylabel('MFCC')\n",
    "plt.xlabel('time')\n",
    "plt.colorbar()\n",
    "print(dataset.iloc[796]['labels'])\n",
    "\n",
    "\n",
    "ipd.Audio(filename)\n",
    "print(wf.shape)\n",
    "print(mfcc.shape)\n",
    "\n",
    "\n",
    "\n",
    "filename = dataset.iloc[486]['path']\n",
    "wf, sr = librosa.load(filename, res_type='kaiser_fast')\n",
    "mfcc = librosa.feature.mfcc(y=wf, sr=sr)\n",
    "\n",
    "plt.figure(figsize=(20, 15))\n",
    "plt.subplot(3,1,1)\n",
    "librosa.display.waveplot(wf, sr=sr)\n",
    "\n",
    "plt.figure(figsize=(20, 15))\n",
    "plt.subplot(3, 1, 1)\n",
    "librosa.display.specshow(mfcc, x_axis='time')\n",
    "plt.ylabel('MFCC')\n",
    "plt.xlabel('time')\n",
    "plt.colorbar()\n",
    "print(dataset.iloc[486]['labels'])\n",
    "\n",
    "print(wf.shape)\n",
    "print(mfcc.shape)"
   ]
  },
  {
   "cell_type": "code",
   "execution_count": null,
   "metadata": {},
   "outputs": [],
   "source": [
    "mfcc_list = list()\n",
    "\n",
    "for filename in dataset['path']:\n",
    "    wf, sr = librosa.load(filename, res_type='kaiser_fast')\n",
    "    mfcc = librosa.feature.mfcc(y=wf, sr=sr)\n",
    "    mfcc_list.append(mfcc)\n",
    "#     for i in mfcc:\n",
    "#         empty_mean_mfcc.append(np.array(np.mean(i)))\n",
    "        \n"
   ]
  },
  {
   "cell_type": "code",
   "execution_count": null,
   "metadata": {},
   "outputs": [],
   "source": [
    "mfcc_list[0][0]"
   ]
  },
  {
   "cell_type": "code",
   "execution_count": null,
   "metadata": {},
   "outputs": [],
   "source": [
    "mean_list = list()\n",
    "for i in mfcc_list:\n",
    "    mean_item = list()\n",
    "    for x in i: \n",
    "        mean_item.append(np.mean(x))\n",
    "    mean_list.append(mean_item)\n",
    "\n",
    "from torch.utils.data import Dataset, DataLoader\n",
    "from torchvision import transforms, utils\n",
    "from torch import optim as optim, functional as F\n",
    "import torch\n",
    "import torchvision\n",
    "import torch.nn as nn\n",
    "import torchvision.transforms as transforms\n",
    "import numpy as np\n",
    "import matplotlib.pyplot as plt\n",
    "\n",
    "\"\"\n",
    "for counter, i in enumerate(mean_list):\n",
    "    for count, x in enumerate(i):\n",
    "        mean = np.mean(i, axis=0)\n",
    "        std = np.std(i, axis=0)\n",
    "        x = (x - mean)/std\n",
    "        mean_list[counter][count] = x\n",
    "    "
   ]
  },
  {
   "cell_type": "code",
   "execution_count": null,
   "metadata": {},
   "outputs": [],
   "source": [
    "dataset['mfcc'] = mean_list\n",
    "dataset.head()"
   ]
  },
  {
   "cell_type": "code",
   "execution_count": null,
   "metadata": {},
   "outputs": [],
   "source": [
    "dataset.to_csv('processed_dataset.csv', index=0)"
   ]
  },
  {
   "cell_type": "code",
   "execution_count": null,
   "metadata": {},
   "outputs": [],
   "source": [
    "labels = []"
   ]
  },
  {
   "cell_type": "code",
   "execution_count": null,
   "metadata": {},
   "outputs": [],
   "source": [
    "from torch.utils.data import Dataset, DataLoader\n",
    "from torchvision import transforms, utils\n",
    "from torch import optim as optim, functional as F\n",
    "import torch\n",
    "import torchvision\n",
    "import torch.nn as nn\n",
    "import torchvision.transforms as transforms\n",
    "import numpy as np\n",
    "import matplotlib.pyplot as plt\n",
    "\n",
    "transforms = transforms.Compose([transforms.ToTensor(), transforms.Normalize((0.5, 0.5, 0.5), (0.5, 0.5, 0.5))])\n",
    "train_size = int(0.8 * len(dataset))\n",
    "test_size = len(dataset) - train_size\n",
    "\n",
    "label_column = dataset['labels']\n",
    "labels = (label_column.unique())\n",
    "one_hot_template = torch.zeros(len(labels), len(labels))\n",
    "\n",
    "for i in range(0, len(labels)):\n",
    "    one_hot_template[i][i] = 1\n",
    "\n",
    "label_encoder_dict = {labels[i]: one_hot_template[i] for i in range(0, len(labels))}\n",
    "dataset_np = np.array(dataset['mfcc'])\n",
    "labels_np = np.array(dataset['labels'])\n",
    "\n",
    "\n",
    "        \n",
    "\n",
    "combined = []\n",
    "for counter, x in enumerate(labels_np):\n",
    "    x = label_encoder_dict[str(x)]\n",
    "    combined.append(  [dataset_np[counter], x]  )"
   ]
  },
  {
   "cell_type": "code",
   "execution_count": null,
   "metadata": {},
   "outputs": [],
   "source": [
    "\n",
    "for counter, i in enumerate(combined):\n",
    "    combined[counter][0] = torch.FloatTensor(combined[counter][0])"
   ]
  },
  {
   "cell_type": "code",
   "execution_count": null,
   "metadata": {},
   "outputs": [],
   "source": [
    "import matplotlib.pyplot as plt\n",
    "\n",
    "categories = labels\n",
    "count = []\n",
    "\n",
    "for i in categories:\n",
    "    count.append(dataset.loc[dataset['labels'] == i, 'labels'].count())"
   ]
  },
  {
   "cell_type": "code",
   "execution_count": null,
   "metadata": {},
   "outputs": [],
   "source": [
    "plt.figure(figsize=(30, 10))\n",
    "plt.bar(categories, count)"
   ]
  },
  {
   "cell_type": "code",
   "execution_count": null,
   "metadata": {},
   "outputs": [],
   "source": [
    "np.random.shuffle(combined)\n",
    "train_index = int(len(combined)*0.8)\n",
    "train_set_np = combined[:train_index]\n",
    "test_set_np = combined[train_index:-1]\n",
    "\n",
    "from torchvision import datasets, transforms\n",
    "import torch\n",
    "import torch.nn as nn\n",
    "import torch.nn.functional as F\n",
    "from torch.utils.data import DataLoader, Dataset, TensorDataset\n",
    "from torch.optim import *\n",
    "import torchvision\n",
    "import torchvision.transforms as transforms\n",
    "\n",
    "trainloader = torch.utils.data.DataLoader(train_set_np, shuffle=True, batch_size = 60)\n",
    "testloader = torch.utils.data.DataLoader(test_set_np, shuffle=False, batch_size = 60)\n",
    "\n",
    "train = iter(trainloader)\n",
    "mfcc_data, label = next(train)\n"
   ]
  },
  {
   "cell_type": "code",
   "execution_count": null,
   "metadata": {},
   "outputs": [],
   "source": [
    "print(mfcc_data.view(2, -1).shape)"
   ]
  },
  {
   "cell_type": "code",
   "execution_count": null,
   "metadata": {},
   "outputs": [],
   "source": [
    "class Net(nn.Module):\n",
    "    def __init__ (self):\n",
    "        super(Net, self).__init__() \n",
    "        self.fc1 = nn.Linear(20, 300)\n",
    "        self.fc2 = nn.Linear(300, 700)\n",
    "        self.fc3 = nn.Linear(700, 500)\n",
    "        self.fc4 = nn.Linear(500, 300)\n",
    "        self.fc5 = nn.Linear(300, 200)\n",
    "        self.fc6 = nn.Linear(200, 100)\n",
    "        self.output = nn.Linear(100, 20)\n",
    "        self.softmax = nn.Softmax(dim=1)\n",
    "        \n",
    "    def forward(self, x):\n",
    "        x = F.relu(self.fc1(x))\n",
    "        x = F.relu(self.fc2(x))\n",
    "        x = F.relu(self.fc3(x))\n",
    "        x = F.relu(self.fc4(x))\n",
    "        x = F.relu(self.fc5(x))\n",
    "        x = F.relu(self.fc6(x))\n",
    "        x = self.output(x)\n",
    "        x = self.softmax(x)\n",
    "        return x\n",
    "net = Net()   "
   ]
  },
  {
   "cell_type": "code",
   "execution_count": null,
   "metadata": {},
   "outputs": [],
   "source": [
    "import torch.optim as optim\n",
    "optimizer_nn = optim.Adam(net.parameters(), lr=0.001)\n",
    "criterion_nn = nn.MSELoss()\n",
    "losses_nn = []\n",
    "\n",
    "epochs = 500\n",
    "for epoch in range(0, epochs):\n",
    "    running_loss = 0.0\n",
    "    for i, data in enumerate(trainloader, 0):\n",
    "        inputs, labels = data\n",
    "        optimizer_nn.zero_grad()\n",
    "        outputs = net(inputs)\n",
    "#         print('Input', inputs.shape)\n",
    "#         print('Output', outputs.shape)\n",
    "        labels = labels.type(torch.FloatTensor)\n",
    "#         print('Labels', labels.shape)\n",
    "        loss = criterion_nn(outputs, labels)\n",
    "        loss.backward()\n",
    "        optimizer_nn.step()\n",
    "        running_loss += loss.item()\n",
    "        losses_nn.append(loss.item())\n",
    "\n",
    "    print(f\"Epoch: {epoch} Training loss: {running_loss/1}\")  \n",
    "\n",
    "\n",
    "print('Finished Training')"
   ]
  },
  {
   "cell_type": "code",
   "execution_count": null,
   "metadata": {},
   "outputs": [],
   "source": [
    "import torch, torch.nn as nn\n",
    "class LSTM_audio(torch.nn.Module):\n",
    "    def __init__ (self, audio_dim, hidden_dim):\n",
    "        super(LSTM_audio, self).__init__()\n",
    "        self.lstm = nn.LSTM(audio_dim, hidden_dim, batch_first=True) #, bidirectional=True x2 shape\n",
    "        self.hidden_dim = hidden_dim\n",
    "        self.dropout = nn.Dropout(0.2)\n",
    "        self.output = nn.Linear(hidden_dim, audio_dim)\n",
    "    def forward(self, x):\n",
    "        x = self.dropout(x)\n",
    "#         print((x.view(1, len(x), -1)).shape)\n",
    "#         print(((x.view(1, len(x), -1)).view(-1, 20)).shape)\n",
    "        lstm_out, (h_t, c_t) = self.lstm((x.view(1, len(x), -1))) ##lstm output\n",
    "        model_out = self.output(((x.view(1, len(x), -1)).view(-1, 20))) ##linear layer -> 20 values -> 1 hot vector encoding\n",
    "        output_pred = F.log_softmax(model_out, dim=0) ##softmax\n",
    "        return output_pred, (h_t, c_t)"
   ]
  },
  {
   "cell_type": "code",
   "execution_count": null,
   "metadata": {},
   "outputs": [],
   "source": [
    "# import torch.optim as optim\n",
    "# AUDIO_DIM = 20\n",
    "# HIDDEN_DIM = 20\n",
    "# lstm_model = LSTM_audio(AUDIO_DIM, HIDDEN_DIM)\n",
    "# optimizer_lstm = optim.SGD(lstm_model.parameters(), lr=0.001)\n",
    "# loss_lstm = nn.MSELoss()\n",
    "\n",
    "# running_loss_lstm = []\n",
    "\n",
    "# epochs = 50\n",
    "# for epoch in range(0, epochs):\n",
    "#     running_loss = 0.0\n",
    "#     for i, data in enumerate(trainloader, 0):\n",
    "#         lstm_model.zero_grad()\n",
    "#         lstm_model.train()\n",
    "#         inputs, labels = data\n",
    "# #         print(inputs.shape)\n",
    "#         optimizer_lstm.zero_grad()\n",
    "#         outputs, states = lstm_model(inputs)\n",
    "# #         print(outputs[1])\n",
    "# #         print(labels[1].shape)\n",
    "#         labels = labels.type(torch.FloatTensor)\n",
    "#         losses = loss_lstm(outputs, labels)\n",
    "#         running_loss_lstm.append(losses.item())\n",
    "\n",
    "#         losses.backward()\n",
    "#         optimizer_lstm.step()\n",
    "#         running_loss += losses.item()\n",
    "        \n",
    "#     print(f\"Epoch: {epoch} Training loss: {running_loss/60}\")  \n",
    "\n",
    "\n",
    "# print('Finished Training')\n"
   ]
  },
  {
   "cell_type": "code",
   "execution_count": null,
   "metadata": {},
   "outputs": [],
   "source": [
    "base_model = label_encoder_dict.copy()\n",
    "# print(basemodel)\n",
    "acc_dict = {}\n",
    "for i in categories:\n",
    "    key = i\n",
    "    acc_dict.setdefault(key, [base_model[key].tolist()])"
   ]
  },
  {
   "cell_type": "code",
   "execution_count": null,
   "metadata": {},
   "outputs": [],
   "source": [
    "correct_count, all_count = 0, 0\n",
    "output_probabilities = []\n",
    "\n",
    "##STILL NEED TO MAKE CONFUSION MATRIX GRID HERE\n",
    "    \n",
    "\n",
    "for i, data in enumerate(trainloader, 0):\n",
    "    inputs, labels = iter(data)\n",
    "    with torch.no_grad():\n",
    "        probs = net(inputs.float())\n",
    "    ps = torch.exp(probs)\n",
    "    ps = ps.tolist()\n",
    "    labels = labels.tolist()\n",
    "    output_probabilities.append(ps)\n",
    "    m_pred = max(ps)\n",
    "    m_true = max(labels)\n",
    "    if (ps.index(m_pred) == labels.index(m_true)):\n",
    "        correct_count += 1\n",
    "    all_count += 1\n",
    "    \n",
    "print(correct_count/all_count * 100, '%')"
   ]
  },
  {
   "cell_type": "code",
   "execution_count": null,
   "metadata": {},
   "outputs": [],
   "source": [
    "print(acc_dict)"
   ]
  },
  {
   "cell_type": "code",
   "execution_count": null,
   "metadata": {},
   "outputs": [],
   "source": [
    "plt.plot(losses_nn)\n",
    "plt.title('loss vs epochs')\n",
    "plt.xlabel('epochs')\n",
    "plt.ylabel('loss')"
   ]
  },
  {
   "cell_type": "code",
   "execution_count": 47,
   "metadata": {},
   "outputs": [],
   "source": [
    "keys = []\n",
    "values = []\n",
    "for key, value in label_encoder_dict.items():\n",
    "    keys.append(key)\n"
   ]
  },
  {
   "cell_type": "code",
   "execution_count": 48,
   "metadata": {},
   "outputs": [
    {
     "data": {
      "text/plain": [
       "''"
      ]
     },
     "execution_count": 48,
     "metadata": {},
     "output_type": "execute_result"
    },
    {
     "data": {
      "image/png": "[encoded data removed]",
      "text/plain": [
       "<Figure size 1080x720 with 2 Axes>"
      ]
     },
     "metadata": {
      "needs_background": "light"
     },
     "output_type": "display_data"
    }
   ],
   "source": [
    "nb_classes = 20\n",
    "confusion_matrix = np.zeros((nb_classes, nb_classes))\n",
    "for i, (inputs, classes) in enumerate(testloader):\n",
    "        outputs = net(inputs)\n",
    "        _, preds = torch.max(outputs, 1)\n",
    "        for t in classes.view(-1):\n",
    "            for p in preds.view(-1):\n",
    "                confusion_matrix[t.long(), p.long()] += 1\n",
    "\n",
    "                \n",
    "import seaborn as sns\n",
    "\n",
    "plt.figure(figsize=(15,10))\n",
    "\n",
    "class_names = keys\n",
    "df_cm = pd.DataFrame(confusion_matrix, index=class_names, columns=class_names).astype(int)\n",
    "heatmap = sns.heatmap(df_cm, annot=True, fmt=\"d\")\n",
    "\n",
    "heatmap.yaxis.set_ticklabels(heatmap.yaxis.get_ticklabels(), rotation=0, ha='right',fontsize=15)\n",
    "heatmap.xaxis.set_ticklabels(heatmap.xaxis.get_ticklabels(), rotation=45, ha='right',fontsize=15)\n",
    "plt.ylabel('True label')\n",
    "plt.xlabel('Predicted label')\n",
    ";"
   ]
  },
  {
   "cell_type": "code",
   "execution_count": 30,
   "metadata": {},
   "outputs": [
    {
     "name": "stdout",
     "output_type": "stream",
     "text": [
      "0. Pred: tensor([ 4,  5,  4, 14, 17, 18,  3, 14,  4, 19,  6, 10,  3, 14,  5, 12,  4,  3,\n",
      "        10,  0]), Actual: tensor([0., 1., 0., 0., 0., 0., 0., 0., 0., 0., 0., 0., 0., 0., 0., 0., 0., 0.,\n",
      "        0., 0.])\n"
     ]
    }
   ],
   "source": []
  },
  {
   "cell_type": "code",
   "execution_count": null,
   "metadata": {},
   "outputs": [],
   "source": []
  },
  {
   "cell_type": "code",
   "execution_count": 28,
   "metadata": {},
   "outputs": [
    {
     "name": "stdout",
     "output_type": "stream",
     "text": [
      "Requirement already satisfied: seaborn in /Users/devpatelio/miniconda3/lib/python3.8/site-packages (0.11.1)\n",
      "Requirement already satisfied: scipy>=1.0 in /Users/devpatelio/miniconda3/lib/python3.8/site-packages (from seaborn) (1.6.0)\n",
      "Requirement already satisfied: numpy>=1.15 in /Users/devpatelio/miniconda3/lib/python3.8/site-packages (from seaborn) (1.19.5)\n",
      "Requirement already satisfied: matplotlib>=2.2 in /Users/devpatelio/miniconda3/lib/python3.8/site-packages (from seaborn) (3.3.3)\n",
      "Requirement already satisfied: pandas>=0.23 in /Users/devpatelio/miniconda3/lib/python3.8/site-packages (from seaborn) (1.1.4)\n",
      "Requirement already satisfied: python-dateutil>=2.1 in /Users/devpatelio/miniconda3/lib/python3.8/site-packages (from matplotlib>=2.2->seaborn) (2.8.1)\n",
      "Requirement already satisfied: cycler>=0.10 in /Users/devpatelio/miniconda3/lib/python3.8/site-packages (from matplotlib>=2.2->seaborn) (0.10.0)\n",
      "Requirement already satisfied: pyparsing!=2.0.4,!=2.1.2,!=2.1.6,>=2.0.3 in /Users/devpatelio/miniconda3/lib/python3.8/site-packages (from matplotlib>=2.2->seaborn) (2.4.7)\n",
      "Requirement already satisfied: pillow>=6.2.0 in /Users/devpatelio/miniconda3/lib/python3.8/site-packages (from matplotlib>=2.2->seaborn) (8.1.0)\n",
      "Requirement already satisfied: kiwisolver>=1.0.1 in /Users/devpatelio/miniconda3/lib/python3.8/site-packages (from matplotlib>=2.2->seaborn) (1.3.1)\n",
      "Requirement already satisfied: pytz>=2017.2 in /Users/devpatelio/miniconda3/lib/python3.8/site-packages (from pandas>=0.23->seaborn) (2020.5)\n",
      "Requirement already satisfied: six>=1.5 in /Users/devpatelio/miniconda3/lib/python3.8/site-packages (from python-dateutil>=2.1->matplotlib>=2.2->seaborn) (1.15.0)\n"
     ]
    }
   ],
   "source": [
    "!pip install seaborn"
   ]
  }
 ],
 "metadata": {
  "kernelspec": {
   "display_name": "Python 3",
   "language": "python",
   "name": "python3"
  },
  "language_info": {
   "codemirror_mode": {
    "name": "ipython",
    "version": 3
   },
   "file_extension": ".py",
   "mimetype": "text/x-python",
   "name": "python",
   "nbconvert_exporter": "python",
   "pygments_lexer": "ipython3",
   "version": "3.8.3"
  }
 },
 "nbformat": 4,
 "nbformat_minor": 4
}
